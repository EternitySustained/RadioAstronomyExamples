{
 "cells": [
  {
   "cell_type": "markdown",
   "metadata": {},
   "source": [
    "<b/>PHYS40591/64591 RADIO ASTRONOMY 2015\n",
    "\n",
    "Examples covering material in lectures 13&14</b>\n",
    "\n",
    "\n",
    "\n",
    "\n",
    "----------------------------------------------------------------------------\n",
    "\n",
    "<b/>Question 1.</b>\n",
    "\n",
    "<i/>A total power radiometer to measure redshifted atomic hydrogen has $T_{\\rm sys} = 40$K; $\\Delta \\nu = 1$ MHz (appropriate for the line width) and integration time $t = 1$ sec. A correlation receiver with the same receiver parameters ($T_{\\rm sys}$ being the same for both receivers) has a signal and reference load whose noise temperatures differ by 1K. Calculate the effect of a 1% gain fluctuation on the outputs in each case and comment on the result compared with the $\\Delta T_{\\rm rms}$ fluctuations due to thermal noise.</i>\n",
    "\n",
    "Start by specifying what we know:"
   ]
  },
  {
   "cell_type": "code",
   "execution_count": 59,
   "metadata": {
    "collapsed": true
   },
   "outputs": [],
   "source": [
    "t_sys = 40.    # K\n",
    "tau = 1.       # seconds\n",
    "d_nu = 1e6     # Hz"
   ]
  },
  {
   "cell_type": "markdown",
   "metadata": {},
   "source": [
    "We are told that the gain fluctuations are 1%, therefore ΔG/G=0.01:"
   ]
  },
  {
   "cell_type": "code",
   "execution_count": 60,
   "metadata": {
    "collapsed": true
   },
   "outputs": [],
   "source": [
    "dG_G = 0.01"
   ]
  },
  {
   "cell_type": "markdown",
   "metadata": {},
   "source": [
    "For the total power radiometer, this means that the absolute variations in temperature due to gain changes are:"
   ]
  },
  {
   "cell_type": "code",
   "execution_count": 61,
   "metadata": {
    "collapsed": false
   },
   "outputs": [
    {
     "name": "stdout",
     "output_type": "stream",
     "text": [
      "dT (gain) =  0.4  K\n"
     ]
    }
   ],
   "source": [
    "dT_gain = dG_G*t_sys\n",
    "print \"dT (gain) = \",dT_gain,\" K\""
   ]
  },
  {
   "cell_type": "markdown",
   "metadata": {},
   "source": [
    "For a total power radiometer, the thermal temperature fluctuations are given by\n",
    "\n",
    "$$\\Delta T = \\frac{T_{\\rm sys}}{\\sqrt{\\Delta \\nu  \\tau}}.$$"
   ]
  },
  {
   "cell_type": "code",
   "execution_count": 62,
   "metadata": {
    "collapsed": false
   },
   "outputs": [
    {
     "name": "stdout",
     "output_type": "stream",
     "text": [
      "dT (thermal) =  0.04  K\n"
     ]
    }
   ],
   "source": [
    "import numpy as np\n",
    "\n",
    "dT_thermal = t_sys/np.sqrt(tau*d_nu)\n",
    "print \"dT (thermal) = \",dT_thermal,\" K\""
   ]
  },
  {
   "cell_type": "code",
   "execution_count": 63,
   "metadata": {
    "collapsed": false
   },
   "outputs": [
    {
     "name": "stdout",
     "output_type": "stream",
     "text": [
      "Temperature fluctuations dominated by gain fluctuations\n"
     ]
    }
   ],
   "source": [
    "if (dT_gain>dT_thermal):\n",
    "    print \"Temperature fluctuations dominated by gain fluctuations\"\n",
    "else:\n",
    "    print \"Temperature fluctuations dominated by thermal noise\""
   ]
  },
  {
   "cell_type": "markdown",
   "metadata": {},
   "source": [
    "For the correlation receiver, the absolute variations in temperature due to gain changes are a function of the difference in temperature between the load and the sky, such that\n",
    "\n",
    "$${\\rm Output}~~\\propto \\sqrt{G_1G_2} \\frac{(T_{\\rm sky} - T_{\\rm load})}{2}.$$"
   ]
  },
  {
   "cell_type": "code",
   "execution_count": 64,
   "metadata": {
    "collapsed": false
   },
   "outputs": [
    {
     "name": "stdout",
     "output_type": "stream",
     "text": [
      "dT (gain) =  0.005  K\n"
     ]
    }
   ],
   "source": [
    "t_diff = 1.     # K\n",
    "\n",
    "dT_gain = dG_G*t_diff/2.\n",
    "print \"dT (gain) = \",dT_gain,\" K\""
   ]
  },
  {
   "cell_type": "markdown",
   "metadata": {},
   "source": [
    "For the switched system the thermal noise will be $\\sqrt{2}$ larger than that of the total power system:"
   ]
  },
  {
   "cell_type": "code",
   "execution_count": 65,
   "metadata": {
    "collapsed": false
   },
   "outputs": [
    {
     "name": "stdout",
     "output_type": "stream",
     "text": [
      "dT (thermal) =  0.0565685424949  K\n"
     ]
    }
   ],
   "source": [
    "dT_thermal*=np.sqrt(2.)\n",
    "print \"dT (thermal) = \",dT_thermal,\" K\""
   ]
  },
  {
   "cell_type": "code",
   "execution_count": 66,
   "metadata": {
    "collapsed": false
   },
   "outputs": [
    {
     "name": "stdout",
     "output_type": "stream",
     "text": [
      "Temperature fluctuations dominated by thermal noise\n"
     ]
    }
   ],
   "source": [
    "if (dT_gain>dT_thermal):\n",
    "    print \"Temperature fluctuations dominated by gain fluctuations\"\n",
    "else:\n",
    "    print \"Temperature fluctuations dominated by thermal noise\""
   ]
  },
  {
   "cell_type": "markdown",
   "metadata": {},
   "source": [
    "\n",
    "\n",
    "\n",
    "\n",
    "----------------------------------------------------------------------------\n",
    "\n",
    "<b/>Question 2.</b>\n",
    "\n",
    "<i/>Complete the solution of the Equation of Radiation Transfer for radiation from a source passing through a uniform semi-transparent medium .</i>"
   ]
  },
  {
   "cell_type": "markdown",
   "metadata": {},
   "source": [
    "$$\\frac{{\\rm d}I}{{\\rm d}\\tau} = S - I$$\n",
    "\n",
    "$$\\times~~{\\rm e}^{\\tau}~~\\rightarrow~~\\frac{{\\rm d}I}{{\\rm d}\\tau}\\cdot{\\rm e}^{\\tau}  = S{\\rm e}^{\\tau} - I{\\rm e}^{\\tau}$$\n",
    "\n",
    "$$\\underbrace{\\int_0^{\\tau} \\frac{{\\rm d}I}{{\\rm d}\\tau}\\cdot{\\rm e}^{\\tau} {\\rm d}\\tau}_{\\rm Integrate~by~parts} =  S \\int_0^{\\tau} {\\rm e}^{\\tau} {\\rm d}\\tau - I \\int_0^{\\tau} {\\rm e}^{\\tau} {\\rm d}\\tau$$\n",
    "\n",
    "Integration by parts:\n",
    "\n",
    "$$\\int u {\\rm d}v = uv - \\int v {\\rm d}u$$\n",
    "\n",
    "$$ u = {\\rm e}^{\\tau};~~{\\rm d}v = \\frac{{\\rm d}I}{{\\rm d}\\tau} {\\rm d}\\tau~~(\\therefore~~v = I)$$\n",
    "\n",
    "$$\\rightarrow~~\\int_0^{\\tau} \\frac{{\\rm d}I}{{\\rm d}\\tau}\\cdot{\\rm e}^{\\tau} {\\rm d}\\tau = \\left[ I {\\rm e}^{\\tau} \\right]_0^{\\tau} - \\int_0^{\\tau} I {\\rm e}^{\\tau} {\\rm d}\\tau$$\n",
    "\n",
    "$$\\therefore~~\\left[ I {\\rm e}^{\\tau} \\right]_0^{\\tau} - \\int_0^{\\tau} I {\\rm e}^{\\tau} {\\rm d}\\tau = S \\int_0^{\\tau} {\\rm e}^{\\tau} {\\rm d}\\tau - I \\int_0^{\\tau} {\\rm e}^{\\tau} {\\rm d}\\tau $$\n",
    "\n",
    "$$\\rightarrow ~~ \\left[ I {\\rm e}^{\\tau} \\right]_0^{\\tau} = S \\int_0^{\\tau} {\\rm e}^{\\tau} {\\rm d}\\tau $$\n",
    "\n",
    "$$I\\left[ 1 - {\\rm e}^{\\tau} \\right] = S\\left[ 1 - {\\rm e}^{\\tau} \\right]$$\n",
    "\n",
    "$$\\times~~{\\rm e}^{-\\tau}~~\\rightarrow~~I\\left[ {\\rm e}^{-\\tau} - 1 \\right] = S\\left[ {\\rm e}^{-\\tau} - 1 \\right]$$\n",
    "\n",
    "$$\\rightarrow~~ I = I{\\rm e}^{-\\tau} + S\\left[ 1 - {\\rm e}^{-\\tau} \\right]$$"
   ]
  },
  {
   "cell_type": "markdown",
   "metadata": {},
   "source": [
    "\n",
    "\n",
    "\n",
    "\n",
    "----------------------------------------------------------------------------\n",
    "\n",
    "<b/>Question 3.</b>\n",
    "\n",
    "<i/>Estimate the expected broadening $\\Delta \\nu$ of absorption lines of $O_2$ in the atmosphere on the basis of:\n",
    "\n",
    "a) The Uncertainty Principle - assuming $\\Delta t$ in the excited state ~ $10^{-8}$ to $10^{-9}$ s.\n",
    "\n",
    "b) The Doppler effect – from molecular motions (use a mean molecular speed for $T=260$ K)\n",
    "\n",
    "c) Pressure broadening due to collisions - use the same formula as for the uncertainty principle but with $\\Delta t$ as the characteristic time between collisions. Hint: look up the mean free path for air molecules at atmospheric pressure and use the same velocity as in b) to get $\\Delta t$.</i>\n",
    "\n",
    "\n",
    "\n",
    "a) The uncertainty principle says that,\n",
    "\n",
    "$$\\Delta E \\Delta t \\sim \\hbar,$$\n",
    "\n",
    "therefore,\n",
    "\n",
    "$$\\Delta E \\sim \\hbar / \\Delta t.$$\n",
    "\n",
    "We aso know that,\n",
    "\n",
    "$$\\Delta E = h \\Delta \\nu,$$\n",
    "\n",
    "so,\n",
    "\n",
    "$$\\Delta \\nu \\sim 1/( 2\\pi \\Delta t).$$"
   ]
  },
  {
   "cell_type": "code",
   "execution_count": 67,
   "metadata": {
    "collapsed": false
   },
   "outputs": [
    {
     "name": "stdout",
     "output_type": "stream",
     "text": [
      "a.) Delta nu (uncertainty principle) =  15.9154943092  MHz\n"
     ]
    }
   ],
   "source": [
    "delta_t = 1e-8     # seconds\n",
    "\n",
    "d_nu = 1./(2.*np.pi*delta_t)\n",
    "print \"a.) Delta nu (uncertainty principle) = \",d_nu/1e6,\" MHz\""
   ]
  },
  {
   "cell_type": "markdown",
   "metadata": {},
   "source": [
    "b.) The formula for the Doppler effect is,\n",
    "\n",
    "$$\\frac{\\Delta v}{c} = \\frac{\\Delta \\nu}{\\nu}.$$\n",
    "\n",
    "If the temperature of the gas is 260 K then the r.m.s. velocity of the $O_2$ molecules is,\n",
    "\n",
    "$$v_{\\rm rms} = \\sqrt{\\frac{3k_{\\rm B}T}{m}}.$$"
   ]
  },
  {
   "cell_type": "code",
   "execution_count": 68,
   "metadata": {
    "collapsed": false
   },
   "outputs": [
    {
     "name": "stdout",
     "output_type": "stream",
     "text": [
      "RMS velocity:  450.659893515  m/s\n"
     ]
    }
   ],
   "source": [
    "k_b = 1.38e-23     # Boltzmann constant\n",
    "T_e = 260.         # K\n",
    "m_e = 5.3e-26      # O_2 mass in kg\n",
    "\n",
    "v_rms = np.sqrt(3.*k_b*T_e/m_e)\n",
    "print \"RMS velocity: \",v_rms,\" m/s\""
   ]
  },
  {
   "cell_type": "code",
   "execution_count": 69,
   "metadata": {
    "collapsed": false
   },
   "outputs": [
    {
     "name": "stdout",
     "output_type": "stream",
     "text": [
      "b.) Delta nu (Doppler) =  90.1319787029  kHz\n"
     ]
    }
   ],
   "source": [
    "const_c = 3e8      # speed of light m/s\n",
    "nu = 60e9          # Hz; freq of main O_2 line\n",
    "\n",
    "d_nu = nu*v_rms/const_c\n",
    "print \"b.) Delta nu (Doppler) = \",d_nu/1e3,\" kHz\""
   ]
  },
  {
   "cell_type": "markdown",
   "metadata": {},
   "source": [
    "c.) The mean free path of molecular oxygen is $\\sim 6\\times 10^{-8}$m ( http://www.kayelaby.npl.co.uk/general_physics/2_2/2_2_4.html ). So we can calculate the mean time between collisions as $\\Delta t \\simeq \\ell_{\\rm mfp} / v_{\\rm rms}$:"
   ]
  },
  {
   "cell_type": "code",
   "execution_count": 70,
   "metadata": {
    "collapsed": false
   },
   "outputs": [
    {
     "name": "stdout",
     "output_type": "stream",
     "text": [
      "Mean time between collisions:  1.33138095631e-10  sec\n"
     ]
    }
   ],
   "source": [
    "mfp = 6e-8         # m\n",
    "\n",
    "delta_t = mfp/v_rms\n",
    "print \"Mean time between collisions: \",delta_t,\" sec\""
   ]
  },
  {
   "cell_type": "markdown",
   "metadata": {},
   "source": [
    "Then, using the uncertainty principle,"
   ]
  },
  {
   "cell_type": "code",
   "execution_count": 71,
   "metadata": {
    "collapsed": false
   },
   "outputs": [
    {
     "name": "stdout",
     "output_type": "stream",
     "text": [
      "c.) Delta nu (collisions) =  1.1954124951  GHz\n"
     ]
    }
   ],
   "source": [
    "d_nu = 1./(2.*np.pi*delta_t)\n",
    "print \"c.) Delta nu (collisions) = \",d_nu/1e9,\" GHz\""
   ]
  },
  {
   "cell_type": "markdown",
   "metadata": {},
   "source": [
    "\n",
    "\n",
    "\n",
    "\n",
    "----------------------------------------------------------------------------\n",
    "\n",
    "<b/>Question 4.</b>\n",
    "\n",
    "<i/>The observed optical depth $\\tau \\sim 0.1$ at a frequency of 40 GHz at sea level in summer corresponds to a level of precipitable water vapour (pwv) of 40mm. The total $\\tau$ can be split into separate contributions from O$_2$ (0.02) and H$_2$0 (0.08). Starting from these numbers calculate the total optical depth at 40 GHz for the following conditions:\n",
    "\n",
    "a) at the same site but in winter when the pwv = 10mm (scale the H$_2$0)\n",
    "\n",
    "b) at an altitude of 2000m in winter (scale the sea level values using the different scale heights)</i>\n",
    "\n",
    "\n",
    "In the question we are told that, at sea level and for a 40mm PWV reading, the optical depth of the atmosphere was contributed as $\\tau=0.02$ from O$_2$ and $\\tau=0.08$ from H$_2$O.\n",
    "\n",
    "\n",
    "a) We remain at sea level but the water vapour reading changes to 10mm. In this case the contribution from O$_2$ will remain unchanged, but the contribution from H$_2$O will scale with the reading on the PWV, i.e."
   ]
  },
  {
   "cell_type": "code",
   "execution_count": 72,
   "metadata": {
    "collapsed": false
   },
   "outputs": [
    {
     "name": "stdout",
     "output_type": "stream",
     "text": [
      "a.) Optical depth (H2O):  0.02 ; Optical depth (O2):  0.02 ; Optical depth (total):  0.04\n"
     ]
    }
   ],
   "source": [
    "pwv_sum = 40.     # mm in summer\n",
    "tau_h2o = 0.08\n",
    "tau_o2 = 0.02\n",
    "\n",
    "pwv_win = 10.      # mm in winter\n",
    "tau_h2o_pta = tau_h2o*(pwv_win/pwv_sum)\n",
    "tau_o2_pta = tau_o2\n",
    "print \"a.) Optical depth (H2O): \",tau_h2o_pta,\"; Optical depth (O2): \",tau_o2_pta,\"; Optical depth (total): \",tau_h2o_pta+tau_o2_pta"
   ]
  },
  {
   "cell_type": "markdown",
   "metadata": {},
   "source": [
    "b.) The PWV meter reading in winter is 10mm at sea level, like part (a), but we are now at an elevation of 2000m so we need to scale the value exponentially with height. Water vapour has a characteristic scale height of 2km,"
   ]
  },
  {
   "cell_type": "code",
   "execution_count": 73,
   "metadata": {
    "collapsed": false
   },
   "outputs": [
    {
     "name": "stdout",
     "output_type": "stream",
     "text": [
      "PWV at 2km:  3.67879441171 mm\n",
      "b.) Optical depth (H2O):  0.00735758882343\n"
     ]
    }
   ],
   "source": [
    "h_sc = 2000.      # m\n",
    "elev = 2000.      # m\n",
    "\n",
    "pwv_2k = pwv_win*np.exp(-elev/h_sc)\n",
    "print \"PWV at 2km: \",pwv_2k,\"mm\"\n",
    "\n",
    "tau_h2o_ptb = tau_h2o*(pwv_2k/pwv_sum)\n",
    "print \"b.) Optical depth (H2O): \",tau_h2o_ptb"
   ]
  },
  {
   "cell_type": "markdown",
   "metadata": {},
   "source": [
    "Pressure also scales with elevation, with a scale height of 8.5km,"
   ]
  },
  {
   "cell_type": "code",
   "execution_count": 74,
   "metadata": {
    "collapsed": false
   },
   "outputs": [
    {
     "name": "stdout",
     "output_type": "stream",
     "text": [
      "b.) Optical depth (O2):  0.0158067672596\n",
      "b.) Optical depth (total):  0.0231643560831\n"
     ]
    }
   ],
   "source": [
    "h_pr = 8500.      # m\n",
    "\n",
    "tau_o2_ptb = tau_o2*np.exp(-elev/h_pr)\n",
    "print \"b.) Optical depth (O2): \",tau_o2_ptb\n",
    "print \"b.) Optical depth (total): \",tau_o2_ptb+tau_h2o_ptb"
   ]
  },
  {
   "cell_type": "markdown",
   "metadata": {},
   "source": [
    "\n",
    "\n",
    "\n",
    "\n",
    "----------------------------------------------------------------------------\n",
    "\n",
    "<b/>Question 5.</b>\n",
    "\n",
    "<i/>When an antenna is tipped from the zenith to an elevation of 45 degrees the temperature measured by the receiver is observed to increase by 5K. Calculate atmospheric contribution to the system noise at the zenith. Hence estimate the optical depth of the atmosphere at the zenith (you may assume a physical temperature for the atmosphere = 270K)</i>\n",
    "\n",
    "At zenith,\n",
    "\n",
    "$$T_{\\rm zen} = T_{\\rm rec} + T_{\\rm atmos, 90}.$$\n",
    "\n",
    "At 45$^{\\circ}$,\n",
    "\n",
    "$$T_{\\rm 45} = T_{\\rm rec} + T_{\\rm atmos, 90}/\\sin{45} = T_{\\rm rec} + 1.41T_{\\rm atmos, 90}$$\n",
    "\n",
    "If the difference between the two is 5K then that must be equivalent to 0.41$T_{\\rm atmos, 90}$."
   ]
  },
  {
   "cell_type": "code",
   "execution_count": 75,
   "metadata": {
    "collapsed": false
   },
   "outputs": [
    {
     "name": "stdout",
     "output_type": "stream",
     "text": [
      "Atmospheric contribution at zenith:  12.0710678119  K\n"
     ]
    }
   ],
   "source": [
    "T_diff = 5.     # K\n",
    "\n",
    "T_atmos90 = T_diff/((1./np.sin(45.*np.pi/180.)) - 1.)\n",
    "print \"Atmospheric contribution at zenith: \",T_atmos90,\" K\""
   ]
  },
  {
   "cell_type": "markdown",
   "metadata": {},
   "source": [
    "Hence, if the typical atmospheric temperature is 270K, then this contribution must be\n",
    "\n",
    "$$270(1 - {\\rm e}^{-\\tau}).$$\n",
    "\n",
    "Hence,"
   ]
  },
  {
   "cell_type": "code",
   "execution_count": 76,
   "metadata": {
    "collapsed": false
   },
   "outputs": [
    {
     "name": "stdout",
     "output_type": "stream",
     "text": [
      "Optical depth at zenith:  0.045737868657\n"
     ]
    }
   ],
   "source": [
    "T_atmos = 270.   # K\n",
    "\n",
    "tau = -np.log(1 - (T_atmos90/T_atmos))\n",
    "print \"Optical depth at zenith: \",tau"
   ]
  },
  {
   "cell_type": "markdown",
   "metadata": {},
   "source": [
    "\n",
    "\n",
    "\n",
    "\n",
    "----------------------------------------------------------------------------\n",
    "\n",
    "<b/>Question 6.</b>\n",
    "\n",
    "<i/>A radio telescope is used to observe a point-source that is known to have a flux density of 1 Jy; the measured flux density is, however, only 900 mJy.\n",
    "\n",
    "a) What is the inferred atmospheric optical depth?\n",
    "\n",
    "b) If the observation was being made at an elevation of 60 degrees above the horizon,\n",
    "estimate the optical depth at the zenith.\n",
    "\n",
    "c) What is the brightness temperature of the atmosphere at the zenith?\n",
    "\n",
    "(You may assume a physical temperature for the atmosphere = 270K)</i>"
   ]
  },
  {
   "cell_type": "code",
   "execution_count": 77,
   "metadata": {
    "collapsed": false
   },
   "outputs": [
    {
     "name": "stdout",
     "output_type": "stream",
     "text": [
      "a.) Optical depth:  0.105360515658\n"
     ]
    }
   ],
   "source": [
    "S_true = 1.    # Jy\n",
    "S_obs = 0.9    # Jy\n",
    "\n",
    "tau = -1.*np.log(S_obs/S_true)\n",
    "print \"a.) Optical depth: \",tau"
   ]
  },
  {
   "cell_type": "code",
   "execution_count": 78,
   "metadata": {
    "collapsed": false
   },
   "outputs": [
    {
     "name": "stdout",
     "output_type": "stream",
     "text": [
      "Zenith angle:  30.0  deg\n",
      "b.) Zenith optical depth:  0.0912448831155\n"
     ]
    }
   ],
   "source": [
    "elev = 60.     # deg\n",
    "\n",
    "za = 90. - elev\n",
    "print \"Zenith angle: \",za,\" deg\"\n",
    "\n",
    "tau_zen = tau*np.cos(za*np.pi/180.)\n",
    "print \"b.) Zenith optical depth: \",tau_zen"
   ]
  },
  {
   "cell_type": "code",
   "execution_count": 79,
   "metadata": {
    "collapsed": false
   },
   "outputs": [
    {
     "name": "stdout",
     "output_type": "stream",
     "text": [
      "Temperature contribution at zenith:  23.5455779742  K\n"
     ]
    }
   ],
   "source": [
    "T_atmos90 = T_atmos*(1 - np.exp(-1.*tau_zen))\n",
    "print \"Temperature contribution at zenith: \",T_atmos90,\" K\""
   ]
  },
  {
   "cell_type": "markdown",
   "metadata": {},
   "source": [
    "\n",
    "\n",
    "\n",
    "\n",
    "------------------------------\n",
    "\n",
    "DONE!"
   ]
  },
  {
   "cell_type": "code",
   "execution_count": null,
   "metadata": {
    "collapsed": true
   },
   "outputs": [],
   "source": []
  }
 ],
 "metadata": {
  "kernelspec": {
   "display_name": "Python 2",
   "language": "python",
   "name": "python2"
  },
  "language_info": {
   "codemirror_mode": {
    "name": "ipython",
    "version": 2
   },
   "file_extension": ".py",
   "mimetype": "text/x-python",
   "name": "python",
   "nbconvert_exporter": "python",
   "pygments_lexer": "ipython2",
   "version": "2.7.10"
  }
 },
 "nbformat": 4,
 "nbformat_minor": 0
}
