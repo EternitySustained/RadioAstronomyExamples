{
 "cells": [
  {
   "cell_type": "markdown",
   "metadata": {},
   "source": [
    "<b/>PHYS40591/64591 RADIO ASTRONOMY 2015\n",
    "\n",
    "Examples covering material in lectures 1&2</b>\n",
    "\n",
    "\n",
    "\n",
    "\n",
    "----------------------------------------------------------------------------\n",
    "\n",
    "<b/>Question 1.</b>\n",
    "\n",
    "<i/>What are the dominant emission mechanisms from the following sources of radio radiation:\n",
    "\n",
    "a. Venus? \n",
    "The planet Venus has <b/>thermal</b> emission, with a quasi-blackbody spectrum.\n",
    "\n",
    "b. A human being?\n",
    "Human beings have <b/>thermal</b> emission.\n",
    "\n",
    "c. A quasar?\n",
    "A quasar has an active galactic nucleus which undergoes very high energy processes, producing non-thermal <b/>synchrotron</b> emission.\n",
    "\n",
    "d. Interstellar dust?\n",
    "Interstellar dust produces <b/>thermal emission</b>, with a quasi-blackbody spectrum.\n",
    "\n",
    "e. A gaseous nebula ionized by a hot star?\n",
    "Gaseous nebulae contain hot gas, which produces <b/>free-free</b> (Bremsstrahlung) emission.\n",
    "\n",
    "</i>\n",
    "\n"
   ]
  },
  {
   "cell_type": "markdown",
   "metadata": {},
   "source": [
    "\n",
    "\n",
    "----------------------------------------------------------------------------\n",
    "\n",
    "<b/>Question 2.</b>\n",
    "\n",
    "<i/>The general expression for the rotational energy of a diatomic molecule was given in Lecture 2. In CO the J=1-0 transition gives rise to a spectral line at a frequency of 115 GHz.\n",
    "\n",
    "a. Calculate the moment of inertia of CO.\n",
    "\n",
    "b. Estimate the minimum temperature of a molecular cloud $T_{\\rm cloud}$ which will emit CO spectral lines in the J = 0-1 transition.</i>"
   ]
  },
  {
   "cell_type": "markdown",
   "metadata": {},
   "source": [
    "Carbon monoxide has quantised energy levels:\n",
    "    \n",
    "$$E_{\\rm rot} = \\frac{J(J+1)\\hbar^2}{2I}$$\n",
    "\n",
    "For J=1: $E_{\\rm rot} = 2\\hbar^2/2I = \\hbar^2/I$\n",
    "\n",
    "For J=0: $E_{\\rm rot} = 0$, not rotating.\n",
    "\n",
    "Therefore,\n",
    "$$\\Delta E_{(J+1)\\rightarrow J} = \\hbar^2/I.$$\n",
    "\n",
    "Each quantum of energy will have a specific frequency, $E=h\\nu$. Therefore, $\\nu = \\Delta E/h$ gives:\n",
    "\n",
    "$$\\nu = \\frac{h}{4\\pi^2 I}$$.\n",
    "\n",
    "a) We know that J=1-0 gives a spectral line at 115GHz, therefore:"
   ]
  },
  {
   "cell_type": "code",
   "execution_count": 1,
   "metadata": {
    "collapsed": false
   },
   "outputs": [
    {
     "name": "stdout",
     "output_type": "stream",
     "text": [
      "a) I =  1.46034662511e-46  kg m^2\n"
     ]
    }
   ],
   "source": [
    "import numpy as np\n",
    "\n",
    "h = 6.63e-34\n",
    "nu = 115e9    # Hz\n",
    "\n",
    "I_CO = h/(4*np.pi**2*nu)\n",
    "\n",
    "print \"a) I = \",I_CO,\" kg m^2\""
   ]
  },
  {
   "cell_type": "markdown",
   "metadata": {},
   "source": [
    "b) To excite CO to J=1 state we require $K.E. = 3/2 k_{\\rm B} T_{\\rm cloud}$. Therefore,\n",
    "$$\\frac{3}{2}k_{\\rm B}T_{\\rm cloud} \\geq h\\nu_{\\rm J=1}$$\n",
    "and\n",
    "$$T_{\\rm cloud} \\geq \\frac{2h\\nu}{3k_{\\rm B}}$$"
   ]
  },
  {
   "cell_type": "code",
   "execution_count": 2,
   "metadata": {
    "collapsed": false
   },
   "outputs": [
    {
     "name": "stdout",
     "output_type": "stream",
     "text": [
      "b) The cloud temperature must be equal to or greater than  3.68333333333  K.\n"
     ]
    }
   ],
   "source": [
    "k_b = 1.38e-23  # Boltzmann's constant\n",
    "\n",
    "T_cl = 2*h*nu/(3*k_b)\n",
    "\n",
    "print \"b) The cloud temperature must be equal to or greater than \",T_cl,\" K.\""
   ]
  },
  {
   "cell_type": "markdown",
   "metadata": {},
   "source": [
    "\n",
    "\n",
    "\n",
    "----------------------------------------------------------------------------\n",
    "\n",
    "<b/>Question 3.</b>\n",
    "\n",
    "<i/>It is desired to make radio observations at a frequency of 8 MHz – what considerations should you consider when planning when to take data?\n",
    "</i>\n",
    "\n",
    "8MHz is close to the typical plasma frequency of the ionosphere so that's going to be your main consideration. You can minimize the effect of this by:\n",
    "\n",
    "i/ observing at nght when the ionosphere is less ionized (ionization is mainly due to incident solar flux).\n",
    "\n",
    "ii/ observe close to solar minimum - not always practical given the length of solar cycles...\n",
    "\n",
    "iii/ observe from space (best bet!)"
   ]
  },
  {
   "cell_type": "markdown",
   "metadata": {},
   "source": [
    "\n",
    "\n",
    "\n",
    "----------------------------------------------------------------------------\n",
    "\n",
    "<b/>Question 4.</b>\n",
    "\n",
    "<i/>A large radio telescope has sensitive receivers covering the frequency ranges 18 to 26 GHz and 26 to 40 GHz. Show that this frequency coverage is sufficient to detect Carbon Monoxide (CO) emission from galaxies at any redshift z from $z \\approx 1.9$ to more than $z \\approx 10$, the estimated redshift at which stars first produced significant amounts of interstellar CO. If the emission is associated with the whole of a galaxy estimate the width of CO lines from a galaxy at $z=10$.\n",
    "\n",
    "(Note: the most commonly observed CO emission lines arise either from J = 1−0 or J = 2−1 transitions, with rest frequencies of 115 and 230 GHz respectively).\n",
    "</i>\n",
    "\n"
   ]
  },
  {
   "cell_type": "markdown",
   "metadata": {},
   "source": [
    "The highest redshift we will be sensitive to is given by the largest observable shift. For the described set-up, this is given by the 230GHz line being shifted to 18GHz (the bottom of our observable band):"
   ]
  },
  {
   "cell_type": "code",
   "execution_count": 3,
   "metadata": {
    "collapsed": false
   },
   "outputs": [
    {
     "name": "stdout",
     "output_type": "stream",
     "text": [
      "The highest observable redshift is, z= 11.7777777778\n"
     ]
    }
   ],
   "source": [
    "b1_low = 18.  # GHz\n",
    "co_21 = 230.  # GHz\n",
    "\n",
    "z = (co_21/b1_low)-1\n",
    "print \"The highest observable redshift is, z=\",z"
   ]
  },
  {
   "cell_type": "markdown",
   "metadata": {},
   "source": [
    "The lowest redshift we will be sensitive to is given by the smallest observable shift. For the described setup, this is given by the 115GHz line being shifted to 40GHz (the top of our observable band):"
   ]
  },
  {
   "cell_type": "code",
   "execution_count": 4,
   "metadata": {
    "collapsed": false
   },
   "outputs": [
    {
     "name": "stdout",
     "output_type": "stream",
     "text": [
      "The lowest observable redshift is, z= 1.875\n"
     ]
    }
   ],
   "source": [
    "b2_high = 40.  # GHz\n",
    "co_10 = 115.  # GHz\n",
    "\n",
    "z = (co_10/b2_high)-1\n",
    "print \"The lowest observable redshift is, z=\",z"
   ]
  },
  {
   "cell_type": "markdown",
   "metadata": {},
   "source": [
    "A typical galaxy has an internal velocity spread of about 300km/s. The resulting width of a line will be given by:\n",
    "\n",
    "$$d\\nu_{\\rm line} = \\nu_{\\rm emitted}\\left( v_{\\rm internal}/c\\right)$$ \n",
    "    \n",
    "at $z=0$."
   ]
  },
  {
   "cell_type": "code",
   "execution_count": 5,
   "metadata": {
    "collapsed": false
   },
   "outputs": [
    {
     "name": "stdout",
     "output_type": "stream",
     "text": [
      "Line width for CO J=1-0:  0.115  GHz.\n"
     ]
    }
   ],
   "source": [
    "v_int = 300e3  # m/s\n",
    "const_c = 3e8  # m/s\n",
    "\n",
    "d_nu = co_10*(v_int/const_c)\n",
    "print \"Line width for CO J=1-0: \",d_nu,\" GHz.\""
   ]
  },
  {
   "cell_type": "markdown",
   "metadata": {},
   "source": [
    "At $z=10$:"
   ]
  },
  {
   "cell_type": "code",
   "execution_count": 6,
   "metadata": {
    "collapsed": false
   },
   "outputs": [
    {
     "name": "stdout",
     "output_type": "stream",
     "text": [
      "The line will be observed at  10.4545454545 GHz for CO J=1-0 at z=10.\n",
      "The line will have width  0.0104545454545 GHz for CO J=1-0 at z=10.\n"
     ]
    }
   ],
   "source": [
    "z=10.   # set the redshift\n",
    "\n",
    "nu_obs = co_10/(1+z)\n",
    "print \"The line will be observed at \",nu_obs,\"GHz for CO J=1-0 at z=10.\"\n",
    "\n",
    "d_nu_obs = d_nu/(1+z)\n",
    "print \"The line will have width \",d_nu_obs,\"GHz for CO J=1-0 at z=10.\""
   ]
  },
  {
   "cell_type": "markdown",
   "metadata": {},
   "source": [
    "(The numbers will double for CO J=2-1.)"
   ]
  },
  {
   "cell_type": "markdown",
   "metadata": {},
   "source": [
    "\n",
    "\n",
    "\n",
    "----------------------------------------------------------------------------\n",
    "\n",
    "<b/>Question 5.</b>\n",
    "\n",
    "<i/>Calculate the frequency of the H91a and H101b recombination lines. How big are these atoms?\n",
    "</i>\n",
    "\n"
   ]
  },
  {
   "cell_type": "markdown",
   "metadata": {},
   "source": [
    "We can analyse the names of the recombination lines to caculate the frequencies. Take $H91\\alpha$: the \"91\" indicates $n_1$ and the $\\alpha$ indicates that $n_1 - n_2 = 1$. Therefore,\n",
    "\n",
    "$$\\nu = 3.28805e15\\left[ \\frac{1}{91^2} - \\frac{1}{92^2} \\right]$$"
   ]
  },
  {
   "cell_type": "code",
   "execution_count": 12,
   "metadata": {
    "collapsed": false
   },
   "outputs": [
    {
     "name": "stdout",
     "output_type": "stream",
     "text": [
      "Frequency of the H91\u0007lpha RRL is:  8451530241.3 Hz\n"
     ]
    }
   ],
   "source": [
    "const_Ryd = 1.079e7  # Rydberg constant\n",
    "n1 = 91.\n",
    "n2 = 92.\n",
    "\n",
    "nu = const_Ryd*const_c*((1/n1**2)-(1/n2**2))\n",
    "print \"Frequency of the H91\\alpha RRL is: \",nu,\"Hz\""
   ]
  },
  {
   "cell_type": "markdown",
   "metadata": {},
   "source": [
    "For $H101\\beta$, the \"101\" again tells us $n_1$ and the $\\beta$ tells us that $n_1 - n_2 = 2$:"
   ]
  },
  {
   "cell_type": "code",
   "execution_count": 13,
   "metadata": {
    "collapsed": false
   },
   "outputs": [
    {
     "name": "stdout",
     "output_type": "stream",
     "text": [
      "Frequency of the H101\beta RRL is:  12395994622.5 Hz\n"
     ]
    }
   ],
   "source": [
    "n1 = 101.\n",
    "n2 = 103.\n",
    "\n",
    "nu = k*((1/n1**2)-(1/n2**2))\n",
    "print \"Frequency of the H101\\beta RRL is: \",nu,\"Hz\""
   ]
  },
  {
   "cell_type": "markdown",
   "metadata": {},
   "source": [
    "\n",
    "\n",
    "\n",
    "----------------------------------------------------------------------------\n",
    "\n",
    "<b/>Question 6.</b>\n",
    "\n",
    "<i/>Estimate the typical thermal velocities of hydrogen atoms in a Galactic cloud whose internal temperature is 30K. A spectral line from hydrogen in the cloud is observed to be broadened by $5\\times10^{-5}$ of the rest frequency - what are the internal velocities which give rise to this?\n",
    "</i>\n",
    "\n",
    "\n"
   ]
  },
  {
   "cell_type": "markdown",
   "metadata": {},
   "source": [
    "Recall that the kinetic energy for a thermal gas is given by $3/2 k_{\\rm B}T$ per molecule. This gives us that\n",
    "\n",
    "$$\\frac{1}{2}mv_{\\rm rms}^2 = \\frac{3}{2}k_{\\rm B}T.$$\n",
    "\n",
    "Therefore,\n",
    "\n",
    "$$v_{\\rm rms} = \\left(\\frac{3k_{\\rm B}T}{m}\\right)^{0.5}.$$"
   ]
  },
  {
   "cell_type": "code",
   "execution_count": 14,
   "metadata": {
    "collapsed": false
   },
   "outputs": [
    {
     "name": "stdout",
     "output_type": "stream",
     "text": [
      "RMS velocity:  862.387717242  m/s\n"
     ]
    }
   ],
   "source": [
    "t = 30.   # Kelvin\n",
    "m_h = 1.67e-27  # kg\n",
    "\n",
    "v_rms = np.sqrt(3*k_b*t/m_h)\n",
    "print \"RMS velocity: \",v_rms,\" m/s\""
   ]
  },
  {
   "cell_type": "markdown",
   "metadata": {},
   "source": [
    "We aren't anywhere near the relativistic regime here ($v_{\\rm rms} \\ll c$) so we use the Doppler formula:\n",
    "\n",
    "$$\\frac{\\Delta v}{c} = \\frac{\\Delta \\nu}{\\nu}.$$\n",
    "\n",
    "We have been told that $\\Delta \\nu/\\nu = 5e-5$, therefore:"
   ]
  },
  {
   "cell_type": "code",
   "execution_count": 15,
   "metadata": {
    "collapsed": false
   },
   "outputs": [
    {
     "name": "stdout",
     "output_type": "stream",
     "text": [
      "Internal motions:  15000.0  m/s\n"
     ]
    }
   ],
   "source": [
    "broadening = 5e-5\n",
    "\n",
    "delta_v = const_c*broadening\n",
    "print \"Internal motions: \",delta_v,\" m/s\""
   ]
  },
  {
   "cell_type": "markdown",
   "metadata": {},
   "source": [
    "Since this is so much larger than the rms thermal velocity, the broadening must be due to internal turbulence."
   ]
  },
  {
   "cell_type": "markdown",
   "metadata": {},
   "source": [
    "\n",
    "\n",
    "\n",
    "----------------------------------------------------------------------------\n",
    "\n",
    "<b/>DONE!</b>\n",
    "\n",
    "\n"
   ]
  },
  {
   "cell_type": "code",
   "execution_count": null,
   "metadata": {
    "collapsed": true
   },
   "outputs": [],
   "source": []
  },
  {
   "cell_type": "code",
   "execution_count": null,
   "metadata": {
    "collapsed": true
   },
   "outputs": [],
   "source": []
  }
 ],
 "metadata": {
  "kernelspec": {
   "display_name": "Python 2",
   "language": "python",
   "name": "python2"
  },
  "language_info": {
   "codemirror_mode": {
    "name": "ipython",
    "version": 2
   },
   "file_extension": ".py",
   "mimetype": "text/x-python",
   "name": "python",
   "nbconvert_exporter": "python",
   "pygments_lexer": "ipython2",
   "version": "2.7.10"
  }
 },
 "nbformat": 4,
 "nbformat_minor": 0
}
