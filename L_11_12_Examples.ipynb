{
 "cells": [
  {
   "cell_type": "markdown",
   "metadata": {},
   "source": [
    "<b/>PHYS40591/64591 RADIO ASTRONOMY 2015\n",
    "\n",
    "Examples covering material in lectures 11&12</b>\n",
    "\n",
    "\n",
    "\n",
    "\n",
    "----------------------------------------------------------------------------\n",
    "\n",
    "<b/>Question 1.</b>\n",
    "\n",
    "<i/>A cable at a physical temperature of 300K has loss of 0.5 dB. A signal of peak temperature 1K is connected to the input. What is the signal temperature and what is the total noise temperature at the output of the cable?</i>\n",
    "\n",
    "\n",
    "We want to be able to use the equation\n",
    "\n",
    "$$T_{\\rm out} = \\eta T_{\\rm in} + (1 - \\eta)T_{\\rm att}.$$\n",
    "\n",
    "So we need to start by calculating $\\eta$."
   ]
  },
  {
   "cell_type": "code",
   "execution_count": 6,
   "metadata": {
    "collapsed": false
   },
   "outputs": [
    {
     "name": "stdout",
     "output_type": "stream",
     "text": [
      "Transmission factor:  1.1220184543\n"
     ]
    }
   ],
   "source": [
    "loss = 0.5    # dB\n",
    "\n",
    "eta = 10**(-1.*loss/10.)\n",
    "print \"Transmission factor: \",eta"
   ]
  },
  {
   "cell_type": "code",
   "execution_count": 5,
   "metadata": {
    "collapsed": false
   },
   "outputs": [
    {
     "name": "stdout",
     "output_type": "stream",
     "text": [
      "Output temperature =  33.515969498  K\n"
     ]
    }
   ],
   "source": [
    "t_in = 1.0   # K\n",
    "t_att = 300. # K\n",
    "\n",
    "t_out = eta*t_in + (1-eta)*t_att\n",
    "print \"Output temperature = \",t_out,\" K\""
   ]
  },
  {
   "cell_type": "markdown",
   "metadata": {},
   "source": [
    "\n",
    "\n",
    "\n",
    "\n",
    "----------------------------------------------------------------------------\n",
    "\n",
    "<b/>Question 2.</b>\n",
    "\n",
    "<i/>A receiver has a low-noise amplifier of 5 K noise temperature and 20 dB gain, followed by a second stage amplifier of 30 K noise temperature also with 20 dB gain, followed by a mixer with 2000 K noise temperature and 0.5 dB conversion loss, and an IF amplifier of 10000 K noise temperature and 40 dB gain. Calculate the total system noise temperature.</i>\n",
    "\n",
    "\n",
    "We want to be able to use the equation for a string of amplifiers from the lectures:\n",
    "\n",
    "$$T_{\\rm rec} = T_1 + \\frac{T_2}{G_1} + \\frac{T_3}{G_1 G_2} + \\frac{T_4}{G_1 G_2 G_3}.$$"
   ]
  },
  {
   "cell_type": "code",
   "execution_count": 8,
   "metadata": {
    "collapsed": false
   },
   "outputs": [
    {
     "name": "stdout",
     "output_type": "stream",
     "text": [
      "Gain 1:  100.0\n",
      "Gain 2:  100.0\n",
      "Gain 3:  0.891250938134\n",
      "Gain 4:  10000.0\n"
     ]
    }
   ],
   "source": [
    "# we're going to do a bunch of conversions here\n",
    "# so let's define a function:\n",
    "def dB_to_g(dB):\n",
    "\n",
    "    if (dB>1.):\n",
    "        g = 10**(dB/10.)\n",
    "    else:\n",
    "        g = 10**(-dB/10.)\n",
    "        \n",
    "    return g\n",
    "\n",
    "\n",
    "\n",
    "t1 = 5.0    # K\n",
    "g1 = 20.0   # dB\n",
    "g1 = dB_to_g(g1)\n",
    "print \"Gain 1: \",g1\n",
    "\n",
    "t2 = 30.0   # K\n",
    "g2 = 20.0   # dB\n",
    "g2 = dB_to_g(g2)\n",
    "print \"Gain 2: \",g2\n",
    "\n",
    "t3 = 2000.0 # K\n",
    "g3 = 0.5    # dB\n",
    "g3 = dB_to_g(g3)\n",
    "print \"Gain 3: \",g3\n",
    "\n",
    "t4 = 10000. # K\n",
    "g4 = 40.0   # dB\n",
    "g4 = dB_to_g(g4)\n",
    "print \"Gain 4: \",g4"
   ]
  },
  {
   "cell_type": "code",
   "execution_count": 9,
   "metadata": {
    "collapsed": false
   },
   "outputs": [
    {
     "name": "stdout",
     "output_type": "stream",
     "text": [
      "Receiver temperature:  6.6220184543  K\n"
     ]
    }
   ],
   "source": [
    "t_rec = t1 +  t2/g1 + t3/(g1*g2) + t4/(g1*g2*g3)\n",
    "print \"Receiver temperature: \",t_rec,\" K\""
   ]
  },
  {
   "cell_type": "markdown",
   "metadata": {},
   "source": [
    "\n",
    "\n",
    "\n",
    "\n",
    "----------------------------------------------------------------------------\n",
    "\n",
    "<b/>Question 3.</b>\n",
    "\n",
    "<i/>The planet Uranus is observed with a 30-m diameter radio telescope operating at wavelength a wavelength $\\lambda$ = 3 mm. In examples 7&8 we stated that at a particular time the measured antenna temperature was 0.89K. Suppose the telescope is fitted with a receiver whose bandwidth is 10 GHz and that the overall system temperature $T_{\\rm sys}$ is 180K. Estimate the integration time that would be required to detect Uranus with a signal-to-noise ratio of 100:1 \n",
    "\n",
    "a.)   For a basic radiometer; \n",
    "\n",
    "b.)   For a single-Dicke switched system.</i>\n",
    "\n",
    "\n",
    "We want a SNR of 100:1, so we require $f = \\Delta T_{\\rm rms} = 10^{-2}\\times 0.89$ K. \n",
    "\n",
    "For part (a) we can use the <b/> Basic Radiometer Equation </b>:\n",
    "\n",
    "$$\\Delta T_{\\rm rms} = \\frac{T_{\\rm sys}}{\\sqrt{\\Delta \\nu \\tau}}.$$"
   ]
  },
  {
   "cell_type": "code",
   "execution_count": 13,
   "metadata": {
    "collapsed": false
   },
   "outputs": [
    {
     "name": "stdout",
     "output_type": "stream",
     "text": [
      "Integration time =  0.0409039262719  seconds for a basic radiometer.\n"
     ]
    }
   ],
   "source": [
    "f = 0.01\n",
    "t_uranus = 0.89 # K\n",
    "t_sys = 180.    # K\n",
    "d_nu = 10e9     # Hz\n",
    "\n",
    "tau = (t_sys/(f*t_uranus))**2/d_nu\n",
    "print \"Integration time = \",tau,\" seconds for a basic radiometer.\""
   ]
  },
  {
   "cell_type": "markdown",
   "metadata": {},
   "source": [
    "For part (b) we can use the <b/> Dicke Switch Radiometer Equation </b>:\n",
    "\n",
    "$$\\Delta T_{\\rm rms} = \\frac{2 T_{\\rm sys}}{\\sqrt{\\Delta \\nu \\tau}}.$$"
   ]
  },
  {
   "cell_type": "code",
   "execution_count": 14,
   "metadata": {
    "collapsed": false
   },
   "outputs": [
    {
     "name": "stdout",
     "output_type": "stream",
     "text": [
      "Integration time =  0.163615705088  seconds for a Dicke switch receiver.\n"
     ]
    }
   ],
   "source": [
    "tau = (2.*t_sys/(f*t_uranus))**2/d_nu\n",
    "print \"Integration time = \",tau,\" seconds for a Dicke switch receiver.\""
   ]
  },
  {
   "cell_type": "markdown",
   "metadata": {},
   "source": [
    "\n",
    "\n",
    "\n",
    "\n",
    "----------------------------------------------------------------------------\n",
    "\n",
    "<b/>Question 4.</b>\n",
    "\n",
    "<i/>The instability of the receiver in Q3 can be modelled (statistically) by the equation:\n",
    "\n",
    "$$\\left(\\frac{\\Delta T_{\\rm rms}}{T_{\\rm sys}}\\right) = k \\left( \\left[ \\frac{1}{\\Delta \\nu\\cdot \\tau}\\right] + \\left[ \\frac{\\Delta G}{G}\\right]^2 \\right)^{1/2}$$\n",
    "\n",
    "with a time dependence of gain fluctuations of the form $\\left[ \\frac{\\Delta G}{G}\\right]^2 = g0 + g1\\cdot \\tau$. For simplicity we will assume $g0 = 0;~ g1 = 10^{-6}$ and $k=1$.\n",
    "\n",
    "a) On what timescale will the gain instabilities dominate uncertainties caused by receiver noise?\n",
    "\n",
    "b) If one wants the overall noise to decrease as $(1/\\tau)^{1/2}$ what is the lowest frequency at which one must switch the input signal against a comparison?</i>\n",
    "\n",
    "\n",
    "For the instability model quoted,\n",
    "\n",
    "$$\\left(\\frac{\\Delta T_{\\rm rms}}{T_{\\rm sys}}\\right) = \\left[ \\frac{10^{-8}}{\\tau} + 10^{-6}\\tau \\right]^{1/2}.$$\n",
    "\n",
    "The gain instabilities are equivalent to the receiver noise when the two terms on the right are equivalent to each other:\n",
    "\n",
    "$$\\frac{10^{-8}}{\\tau} = 10^{-6}\\tau~~\\longrightarrow~~ \\tau = 0.1.$$  \n",
    "\n",
    "On timescales longer than this the gain fluctuations will dominate the receiver noise.\n",
    "\n",
    "This means that the switching frequency must be higher than $1/\\tau$, i.e. $>> 10$ MHz."
   ]
  },
  {
   "cell_type": "markdown",
   "metadata": {},
   "source": [
    "\n",
    "\n",
    "\n",
    "\n",
    "----------------------------------------------------------------------------\n",
    "\n",
    "<b/>Question 5.</b>\n",
    "\n",
    "<i/>A radio telescope of diameter $D$ = 100m is equipped with a twin-beam receiver. If the angle\n",
    "between the reception beams is 5 arcminutes (remember $1^{\\circ}$ = 60 arcminutes) and the characteristic height of the atmosphere is 2km:\n",
    "\n",
    "a) estimate the percentage overlap between the two near-field beams compared with the\n",
    "area within the total perimeter defined by both beams. (For simplicity assume square beams of side D rather than cylindrical beams.)\n",
    "\n",
    "b) If the observing wavelength $\\lambda$ = 0.02m by how many far-field antenna beam widths ($\\theta_{1/2}$) are the two beams separated in angle on the sky?</i>\n",
    "\n",
    "\n",
    "At a height of 2km, an angle of 5 arcmins gives a physical distance of:"
   ]
  },
  {
   "cell_type": "code",
   "execution_count": 18,
   "metadata": {
    "collapsed": false
   },
   "outputs": [
    {
     "name": "stdout",
     "output_type": "stream",
     "text": [
      "Physical offset =  2.90888413781  m\n"
     ]
    }
   ],
   "source": [
    "import numpy as np\n",
    "\n",
    "d = 100.0      # m\n",
    "h = 2000.0     # m\n",
    "phi = 5.0      # arcmin\n",
    "\n",
    "\n",
    "phi_deg = (5.0/60.)*np.pi/180.   # convert to radians\n",
    "\n",
    "offset = h*np.tan(phi_deg)\n",
    "print \"Physical offset = \",offset,\" m\""
   ]
  },
  {
   "cell_type": "code",
   "execution_count": 20,
   "metadata": {
    "collapsed": false
   },
   "outputs": [
    {
     "name": "stdout",
     "output_type": "stream",
     "text": [
      "Percentage overlap =  0.917531312977  %\n"
     ]
    }
   ],
   "source": [
    "overlap = d*(d-offset)\n",
    "total = d*(d+2*offset)\n",
    "print \"Percentage overlap = \",overlap/total,\" %\""
   ]
  },
  {
   "cell_type": "code",
   "execution_count": 21,
   "metadata": {
    "collapsed": false
   },
   "outputs": [
    {
     "name": "stdout",
     "output_type": "stream",
     "text": [
      "FWHM =  0.00023  rads   =  0.790681757281  arcmin\n"
     ]
    }
   ],
   "source": [
    "lam = 0.02     # m\n",
    "\n",
    "theta_half = 1.15*lam/d\n",
    "print \"FWHM = \",theta_half,\" rads   = \",theta_half*(180./np.pi)*60.,\" arcmin\""
   ]
  },
  {
   "cell_type": "markdown",
   "metadata": {},
   "source": [
    "Therefore they are separated by"
   ]
  },
  {
   "cell_type": "code",
   "execution_count": 22,
   "metadata": {
    "collapsed": false
   },
   "outputs": [
    {
     "name": "stdout",
     "output_type": "stream",
     "text": [
      "Separated by  6.32365671012  FWHM\n"
     ]
    }
   ],
   "source": [
    "n_beam = phi/(theta_half*(180./np.pi)*60.)\n",
    "print \"Separated by \",n_beam,\" FWHM\""
   ]
  },
  {
   "cell_type": "markdown",
   "metadata": {},
   "source": [
    "\n",
    "\n",
    "\n",
    "\n",
    "----------------------------------------------------------------------------\n",
    "\n",
    "<b/>Question 6.</b>\n",
    "\n",
    "<i/>A single Dicke-switch radiometer is connected to an antenna which is observing the sky at\n",
    "a frequency (around 400 MHz) where overall brightness temperature is 25K (dominated by the\n",
    "Galactic synchrotron radiation); the stray radiation from other sources is 10K and the (uncooled) receiver temperature is 40K. The resistive comparison load is held at liquid nitrogen temperature 77K.\n",
    "\n",
    "a) On the timescale of the switching time, what is the factor by which the receiver stability is improved compared with an unswitched system?\n",
    "\n",
    "b) How would you improve this factor?</i>\n",
    "\n",
    "\n",
    "\n",
    "We can use the equation,\n",
    "\n",
    "$${\\rm Improvement} = \\frac{[T_{\\rm rec} + T_{\\rm ant}]}{[T_{\\rm load} - T_{\\rm ant}]}.$$"
   ]
  },
  {
   "cell_type": "code",
   "execution_count": 24,
   "metadata": {
    "collapsed": false
   },
   "outputs": [
    {
     "name": "stdout",
     "output_type": "stream",
     "text": [
      "Improvement:  1.78571428571\n"
     ]
    }
   ],
   "source": [
    "t_sky = 25.0    # K\n",
    "t_stray = 10.0  # K\n",
    "t_rec = 40.0    # K\n",
    "t_load = 77.0   # K\n",
    "\n",
    "t_ant = t_sky+t_stray\n",
    "imp = (t_rec + t_ant)/(t_load - t_ant)\n",
    "print \"Improvement: \",imp"
   ]
  },
  {
   "cell_type": "markdown",
   "metadata": {},
   "source": [
    "To improve this we could make $T_{\\rm load}$ closer in value to $T_{\\rm ant}$."
   ]
  },
  {
   "cell_type": "markdown",
   "metadata": {},
   "source": [
    "\n",
    "\n",
    "\n",
    "\n",
    "----------------------------------------------------------------------------\n",
    "\n",
    "<b/>Question 7.</b>\n",
    "\n",
    "<i/>A cryogenically cooled receiver operating at a physical temperature of 20K has a high gain ($>$ 30dB)\n",
    "low noise amplifier (LNA) whose noise temperature $T_{\\rm LNA}$ = 5K. Between the antenna feed horn and the LNA are passive components which exhibit a loss of 3dB. What is the effective receiver temperature?</i>\n",
    "\n",
    "\n",
    "The effective receiver temperature is basically a measure of the noise in the system. We can calculate it by looking at the signal-to-noise relative to some general input power, characterized by $T_{\\rm in}$.\n",
    "\n",
    "The input power will first be attenuated by the passive components with a loss of 3dB:"
   ]
  },
  {
   "cell_type": "code",
   "execution_count": 27,
   "metadata": {
    "collapsed": false
   },
   "outputs": [
    {
     "name": "stdout",
     "output_type": "stream",
     "text": [
      "Transmission factor:  0.501187233627\n"
     ]
    }
   ],
   "source": [
    "loss = 3.0    # dB\n",
    "eta = 10**(-1.*loss/10.)\n",
    "print \"Transmission factor: \",eta"
   ]
  },
  {
   "cell_type": "markdown",
   "metadata": {},
   "source": [
    "The system noise will also have a contribution from these components, which we will assume are at a temperature of 20K as they are at the front end of the receiver."
   ]
  },
  {
   "cell_type": "code",
   "execution_count": 29,
   "metadata": {
    "collapsed": false
   },
   "outputs": [
    {
     "name": "stdout",
     "output_type": "stream",
     "text": [
      " Additional noise from passive components =  9.97625532745  K\n"
     ]
    }
   ],
   "source": [
    "t_phy = 20.0  # K\n",
    "\n",
    "t_att = (1 - eta)*t_phy\n",
    "print \"Additional noise from passive components = \",t_att,\" K\""
   ]
  },
  {
   "cell_type": "markdown",
   "metadata": {},
   "source": [
    "The receiver temperature will also have a contribution from the LNA:"
   ]
  },
  {
   "cell_type": "code",
   "execution_count": 30,
   "metadata": {
    "collapsed": false
   },
   "outputs": [
    {
     "name": "stdout",
     "output_type": "stream",
     "text": [
      "Receiver temperature =  14.9762553275  K\n"
     ]
    }
   ],
   "source": [
    "t_lna = 5.0   # K\n",
    "\n",
    "t_rec = t_lna + t_att\n",
    "print \"Receiver temperature = \",t_rec,\" K\""
   ]
  },
  {
   "cell_type": "markdown",
   "metadata": {},
   "source": [
    "To get the effective receiver tee"
   ]
  },
  {
   "cell_type": "code",
   "execution_count": 31,
   "metadata": {
    "collapsed": false
   },
   "outputs": [
    {
     "name": "stdout",
     "output_type": "stream",
     "text": [
      "Effective receiver temperature =  0.0334654573302  K\n"
     ]
    }
   ],
   "source": [
    "t_eff = eta/t_rec\n",
    "print \"Effective receiver temperature = \",t_eff,\" K\""
   ]
  },
  {
   "cell_type": "code",
   "execution_count": null,
   "metadata": {
    "collapsed": true
   },
   "outputs": [],
   "source": []
  }
 ],
 "metadata": {
  "kernelspec": {
   "display_name": "Python 2",
   "language": "python",
   "name": "python2"
  },
  "language_info": {
   "codemirror_mode": {
    "name": "ipython",
    "version": 2
   },
   "file_extension": ".py",
   "mimetype": "text/x-python",
   "name": "python",
   "nbconvert_exporter": "python",
   "pygments_lexer": "ipython2",
   "version": "2.7.10"
  }
 },
 "nbformat": 4,
 "nbformat_minor": 0
}
