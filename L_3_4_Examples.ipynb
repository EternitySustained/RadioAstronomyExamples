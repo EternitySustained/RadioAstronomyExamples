{
 "cells": [
  {
   "cell_type": "markdown",
   "metadata": {},
   "source": [
    "<b/>PHYS40591/64591 RADIO ASTRONOMY 2012\n",
    "\n",
    "Examples covering material in lectures 3&4</b>\n",
    "\n",
    "\n",
    "\n",
    "\n",
    "----------------------------------------------------------------------------\n",
    "\n",
    "<b/>Question 1.</b>\n",
    "\n",
    "<i/>Estimate at what frequency the Rayleigh-Jeans approximation will begin to break down seriously if the temperature of the emitting source is 100K. </i>\n",
    "\n",
    "\n",
    "In Slide 14 we saw that the R-J approximation breaksdown for frequencies [GHz] that are larger than 20 times the temperature [K], i.e.\n",
    "\n",
    "$$\\nu [{\\rm GHz}] \\ll 20\\times T [{\\rm K}]$$.\n",
    "\n",
    "\n",
    "First define the temperature of the emitting source:"
   ]
  },
  {
   "cell_type": "code",
   "execution_count": 1,
   "metadata": {
    "collapsed": true
   },
   "outputs": [],
   "source": [
    "T_em = 500   # Kelvins"
   ]
  },
  {
   "cell_type": "markdown",
   "metadata": {},
   "source": [
    "Then calculate the limiting frequency:"
   ]
  },
  {
   "cell_type": "code",
   "execution_count": 2,
   "metadata": {
    "collapsed": false
   },
   "outputs": [
    {
     "name": "stdout",
     "output_type": "stream",
     "text": [
      "Limiting RJ frequency for a source of temparature  500  K is  10000  GHz.\n"
     ]
    }
   ],
   "source": [
    "f_lim = 20*T_em\n",
    "\n",
    "print \"Limiting RJ frequency for a source of temparature \",T_em,\"K is \",f_lim,\"GHz.\""
   ]
  },
  {
   "cell_type": "markdown",
   "metadata": {},
   "source": [
    "\n",
    "\n",
    "----------------------------------------------------------------------------\n",
    "\n",
    "<b/>Question 2.</b>\n",
    "\n",
    "<i/>Over the past 50 years the total collecting area of the world’s radio observatories has been  equivalent to 40 radio telescopes of diameter 25m. If the typical power received by each of these telescopes was $10^{-16}\\,$W  over this period what has been the total energy received? How long would this illuminate a standard torch bulb (3V; 0.5A)?</i>\n",
    "\n",
    "In Slide 13 we calculated the total energy collected by the Lovell Telescope over its lifetime from Cas A. We can follow that reasoning here.\n",
    "\n",
    "We are considering 40 identical telescopes:"
   ]
  },
  {
   "cell_type": "code",
   "execution_count": 3,
   "metadata": {
    "collapsed": true
   },
   "outputs": [],
   "source": [
    "N_tel = 40"
   ]
  },
  {
   "cell_type": "code",
   "execution_count": 4,
   "metadata": {
    "collapsed": true
   },
   "outputs": [],
   "source": [
    "P_rec = 1e-16  # Watts per telescope"
   ]
  },
  {
   "cell_type": "markdown",
   "metadata": {},
   "source": [
    "Therefore the total power received is:"
   ]
  },
  {
   "cell_type": "code",
   "execution_count": 5,
   "metadata": {
    "collapsed": true
   },
   "outputs": [],
   "source": [
    "P_tot = N_tel*P_rec"
   ]
  },
  {
   "cell_type": "markdown",
   "metadata": {},
   "source": [
    "We've been receiving this power over 50 years:"
   ]
  },
  {
   "cell_type": "code",
   "execution_count": 6,
   "metadata": {
    "collapsed": true
   },
   "outputs": [],
   "source": [
    "delta_t = 50*(365*24*60*60)  # seconds"
   ]
  },
  {
   "cell_type": "markdown",
   "metadata": {},
   "source": [
    "So the total energy received is:"
   ]
  },
  {
   "cell_type": "code",
   "execution_count": 7,
   "metadata": {
    "collapsed": false
   },
   "outputs": [
    {
     "name": "stdout",
     "output_type": "stream",
     "text": [
      "Total energy received:  6.3072e-06  J\n"
     ]
    }
   ],
   "source": [
    "E_tot = delta_t*P_tot\n",
    "\n",
    "print \"Total energy received: \",E_tot,\" J\""
   ]
  },
  {
   "cell_type": "markdown",
   "metadata": {},
   "source": [
    "We know that a torch (3V;0.5A) requires 1.7 mJoules to power it for 1 msec. Therefore for 1 second it requires 1.7 J. So with the enegy received by our 40 25-m telescopes we can power it for:"
   ]
  },
  {
   "cell_type": "code",
   "execution_count": 8,
   "metadata": {
    "collapsed": false
   },
   "outputs": [
    {
     "name": "stdout",
     "output_type": "stream",
     "text": [
      "We can power a torch for  3.71011764706e-06  seconds\n"
     ]
    }
   ],
   "source": [
    "t_torch = E_tot/1.7\n",
    "\n",
    "print \"We can power a torch for \",t_torch,\" seconds\""
   ]
  },
  {
   "cell_type": "markdown",
   "metadata": {},
   "source": [
    "i.e. ~4 micro-seconds."
   ]
  },
  {
   "cell_type": "markdown",
   "metadata": {},
   "source": [
    "\n",
    "\n",
    "----------------------------------------------------------------------------\n",
    "\n",
    "<b/>Question 3.</b>\n",
    "\n",
    "<i/>Calculate the flux density in Jy of a mobile phone at a distance of 1km if it is radiating 0.20W isotropically over a bandwidth of 200 kHz.  Comment on your answer.\n",
    "[Hint: first work out the spectral power radiated per Hz]</i>\n",
    "\n",
    "The phone is radiating 0.2 Watts of power over a bandwidth of 200 kHz, so the spectral power is:"
   ]
  },
  {
   "cell_type": "code",
   "execution_count": 9,
   "metadata": {
    "collapsed": false
   },
   "outputs": [
    {
     "name": "stdout",
     "output_type": "stream",
     "text": [
      "Spectral power =  1e-06  Watts/Hz\n"
     ]
    }
   ],
   "source": [
    "p_spec = 0.2/(200e3)  # Watts/Hz\n",
    "\n",
    "print \"Spectral power = \",p_spec,\" Watts/Hz\""
   ]
  },
  {
   "cell_type": "markdown",
   "metadata": {},
   "source": [
    "We are 1 km away and the phone is transmitting <i/>isotropically</i>, so the power per sq-metre at our position is:"
   ]
  },
  {
   "cell_type": "code",
   "execution_count": 10,
   "metadata": {
    "collapsed": false
   },
   "outputs": [
    {
     "name": "stdout",
     "output_type": "stream",
     "text": [
      "Power received at 1km: 7.95774715459e-14  Watts/Hz/m^2\n"
     ]
    }
   ],
   "source": [
    "# import the numpy library to get physical constant\n",
    "import numpy as np\n",
    "\n",
    "r = 1e3  # metres\n",
    "p_rec = p_spec/(4*np.pi*r**2)\n",
    "\n",
    "print \"Power received at 1km:\",p_rec,\" Watts/Hz/m^2\""
   ]
  },
  {
   "cell_type": "markdown",
   "metadata": {},
   "source": [
    "Let's convert that to Janskys:"
   ]
  },
  {
   "cell_type": "code",
   "execution_count": 11,
   "metadata": {
    "collapsed": false
   },
   "outputs": [
    {
     "name": "stdout",
     "output_type": "stream",
     "text": [
      "Power received at 1km: 7.95774715459e+12  Jy\n"
     ]
    }
   ],
   "source": [
    "p_rec_jy = p_rec*1e26\n",
    "\n",
    "print \"Power received at 1km:\",p_rec_jy,\" Jy\""
   ]
  },
  {
   "cell_type": "markdown",
   "metadata": {},
   "source": [
    "\n",
    "\n",
    "----------------------------------------------------------------------------\n",
    "\n",
    "<b/>Question 4.</b>\n",
    "\n",
    "<i/>The planet Uranus is observed with a 30-m diameter radio telescope operating at wavelength a wavelength $\\lambda$ = 3 mm. Estimate the width of the telescope main beam at half power (variously called $\\theta_{1/2}$ or  FWHM or HPBW) expressed in radians </i>\n",
    "\n",
    "The half-power beam width is calculated using the expression,\n",
    "\n",
    "$\\theta_{\\rm FWHM} \\simeq \\frac{\\lambda}{D}$.\n",
    "\n",
    "We have a dish size of 30 metres and it's operating at a wavelength of 3mm:"
   ]
  },
  {
   "cell_type": "code",
   "execution_count": 12,
   "metadata": {
    "collapsed": false
   },
   "outputs": [],
   "source": [
    "d = 30  # metres\n",
    "lam = 3e-3  # metres"
   ]
  },
  {
   "cell_type": "markdown",
   "metadata": {},
   "source": [
    "Therefore our beam width is:"
   ]
  },
  {
   "cell_type": "code",
   "execution_count": 13,
   "metadata": {
    "collapsed": false
   },
   "outputs": [
    {
     "name": "stdout",
     "output_type": "stream",
     "text": [
      "Beam width is  0.0001 rads\n",
      "Beam width is  0.00572957795131  degrees\n",
      "Beam width is  20.6264806247  arcseconds\n"
     ]
    }
   ],
   "source": [
    "theta = lam/d\n",
    "\n",
    "print \"Beam width is \", theta, \"rads\"\n",
    "print \"Beam width is \", theta*(180./np.pi),\" degrees\"\n",
    "print \"Beam width is \", theta*(180./np.pi)*3600,\" arcseconds\""
   ]
  },
  {
   "cell_type": "markdown",
   "metadata": {},
   "source": [
    "\n",
    "\n",
    "----------------------------------------------------------------------------\n",
    "\n",
    "<b/>Question 5.</b>\n",
    "\n",
    "<i/>At a certain epoch Uranus has an angular diameter of 3.5 arcsec and a brightness temperature $T_{\\rm B}  =100\\,$K.  Calculate its flux density S at a wavelength $\\lambda$ = 3 mm expressed in units of Jy. </i>\n",
    "\n",
    "We can work out the flux density using the equation:\n",
    "    \n",
    "$S = \\frac{2kT_{\\rm B}}{\\lambda^2} {\\rm d}\\Omega$.\n",
    "\n",
    "First let's specify our brightness temperature and wavelength:"
   ]
  },
  {
   "cell_type": "code",
   "execution_count": 14,
   "metadata": {
    "collapsed": true
   },
   "outputs": [],
   "source": [
    "T_B = 100  # kelvin\n",
    "lam = 3e-3  # metres\n",
    "\n",
    "k_b = 1.38e-23 # Boltzmann's constant"
   ]
  },
  {
   "cell_type": "markdown",
   "metadata": {},
   "source": [
    "We can also specify the diameter of Uranus:"
   ]
  },
  {
   "cell_type": "code",
   "execution_count": 15,
   "metadata": {
    "collapsed": true
   },
   "outputs": [],
   "source": [
    "d_uranus = 3.5  # arcseconds"
   ]
  },
  {
   "cell_type": "markdown",
   "metadata": {},
   "source": [
    "Using this, we can now work out the solid angle subtended by Uranus, d$\\Omega$:"
   ]
  },
  {
   "cell_type": "code",
   "execution_count": 16,
   "metadata": {
    "collapsed": false
   },
   "outputs": [
    {
     "name": "stdout",
     "output_type": "stream",
     "text": [
      "Angular area of Uranus:  2.2613912307e-10  str\n"
     ]
    }
   ],
   "source": [
    "d_omega = np.pi*(d_uranus/2.)**2  # arcsec^2\n",
    "\n",
    "# convert to sterads:\n",
    "d_omega*= ((1/3600.)*(np.pi/180.))**2  # steradians\n",
    "\n",
    "print \"Angular area of Uranus: \",d_omega,\" str\""
   ]
  },
  {
   "cell_type": "markdown",
   "metadata": {},
   "source": [
    "Then we can combine all of this to find the flux density:"
   ]
  },
  {
   "cell_type": "code",
   "execution_count": 17,
   "metadata": {
    "collapsed": false
   },
   "outputs": [
    {
     "name": "stdout",
     "output_type": "stream",
     "text": [
      "Flux density of Uranus:  6.93493310747  Jy\n"
     ]
    }
   ],
   "source": [
    "S = (2*k_b*T_B/lam**2)*(d_omega)  # Watts/m^2/Hz\n",
    "S*=1e26  # Janskys\n",
    "\n",
    "print \"Flux density of Uranus: \",S,\" Jy\""
   ]
  },
  {
   "cell_type": "markdown",
   "metadata": {},
   "source": [
    "\n",
    "\n",
    "----------------------------------------------------------------------------\n",
    "\n",
    "<b/>Question 6.</b>\n",
    "\n",
    "<i/>What are the mean and the rms noise voltages generated by 50 Ohm resistor at a  temperature of 300K in a circuit with a filter of bandwidth 1 GHz – as measured with a high impedance voltmeter?  Now calculate the rms power from the resistor as measured with a power meter with an input impedance of 50 Ohms.</i>\n",
    "\n",
    "\n",
    "Let's define some of our parameters:"
   ]
  },
  {
   "cell_type": "code",
   "execution_count": 18,
   "metadata": {
    "collapsed": true
   },
   "outputs": [],
   "source": [
    "T_res = 300  # kelvin\n",
    "R_res = 50   # ohm\n",
    "d_nu = 1e9   # Hz"
   ]
  },
  {
   "cell_type": "markdown",
   "metadata": {},
   "source": [
    "Then we can calculate the rms voltage:"
   ]
  },
  {
   "cell_type": "code",
   "execution_count": 19,
   "metadata": {
    "collapsed": false
   },
   "outputs": [
    {
     "name": "stdout",
     "output_type": "stream",
     "text": [
      "The RMS voltage is:  2.87749891399e-05  V\n"
     ]
    }
   ],
   "source": [
    "v_rms = np.sqrt(4*k_b*T_res*R_res*d_nu)\n",
    "\n",
    "print \"The RMS voltage is: \",v_rms,\" V\""
   ]
  },
  {
   "cell_type": "markdown",
   "metadata": {
    "collapsed": true
   },
   "source": [
    "We can also calculate the power:"
   ]
  },
  {
   "cell_type": "code",
   "execution_count": 20,
   "metadata": {
    "collapsed": false
   },
   "outputs": [
    {
     "name": "stdout",
     "output_type": "stream",
     "text": [
      "The RMS power is:  4.14e-12  Watts\n"
     ]
    }
   ],
   "source": [
    "p_rms = k_b*T_res*d_nu\n",
    "\n",
    "print \"The RMS power is: \",p_rms,\" Watts\""
   ]
  },
  {
   "cell_type": "markdown",
   "metadata": {},
   "source": [
    "----------------------------------------------------------------------------\n",
    "\n",
    "<b/>Done!</b>\n"
   ]
  },
  {
   "cell_type": "code",
   "execution_count": null,
   "metadata": {
    "collapsed": true
   },
   "outputs": [],
   "source": []
  }
 ],
 "metadata": {
  "kernelspec": {
   "display_name": "Python 2",
   "language": "python",
   "name": "python2"
  },
  "language_info": {
   "codemirror_mode": {
    "name": "ipython",
    "version": 2
   },
   "file_extension": ".py",
   "mimetype": "text/x-python",
   "name": "python",
   "nbconvert_exporter": "python",
   "pygments_lexer": "ipython2",
   "version": "2.7.10"
  }
 },
 "nbformat": 4,
 "nbformat_minor": 0
}
