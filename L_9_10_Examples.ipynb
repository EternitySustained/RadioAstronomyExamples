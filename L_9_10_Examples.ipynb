{
 "cells": [
  {
   "cell_type": "markdown",
   "metadata": {},
   "source": [
    "<b/>PHYS40591/64591 RADIO ASTRONOMY 2015\n",
    "\n",
    "Examples covering material in lectures 9&10</b>\n",
    "\n",
    "\n",
    "\n",
    "\n",
    "----------------------------------------------------------------------------\n",
    "\n",
    "<b/>Question 1.</b>\n",
    "\n",
    "<i/>What is the self-coherence time $\\tau_{\\rm COH}$ for a noise-like voltage of bandwidth $\\Delta \\nu = 500$ MHz?</i>\n",
    "\n",
    "\n",
    "We can calculate the coherence time using:\n",
    "\n",
    "$$\\tau = \\Delta t = \\frac{1}{\\Delta \\nu}.$$"
   ]
  },
  {
   "cell_type": "code",
   "execution_count": 1,
   "metadata": {
    "collapsed": false
   },
   "outputs": [
    {
     "name": "stdout",
     "output_type": "stream",
     "text": [
      "Coherence time =  2e-09  seconds\n"
     ]
    }
   ],
   "source": [
    "d_nu = 500e6    # Hz\n",
    "\n",
    "tau = 1./d_nu\n",
    "print \"Coherence time = \",tau,\" seconds\""
   ]
  },
  {
   "cell_type": "markdown",
   "metadata": {},
   "source": [
    "Note that the relationship is governed by the basic uncertainty relation:\n",
    "\n",
    "$$\\Delta \\nu \\Delta t \\sim 1.$$"
   ]
  },
  {
   "cell_type": "markdown",
   "metadata": {},
   "source": [
    "\n",
    "\n",
    "\n",
    "\n",
    "----------------------------------------------------------------------------\n",
    "\n",
    "<b/>Question 2.</b>\n",
    "\n",
    "<i/>What is the level of rms fluctuations at the output of a total power receiving system with $T_{\\rm sys} = 20$K and bandwidth $\\Delta \\nu = 500$ MHz for an integration time of 1 second? If these 1 second samples are averaged for 1 minute how does the rms fluctuation change?</i>\n",
    "\n",
    "\n",
    "We can use the <b/>Basic Radiometer Equation</b>:\n",
    "\n",
    "$$\\Delta T_{\\rm rms} = \\frac{T_{\\rm sys}}{\\sqrt{\\Delta \\nu \\tau}}.$$"
   ]
  },
  {
   "cell_type": "code",
   "execution_count": 5,
   "metadata": {
    "collapsed": false
   },
   "outputs": [
    {
     "name": "stdout",
     "output_type": "stream",
     "text": [
      "rms fluctuation:  0.000894427191  K  for  1.0  seconds\n"
     ]
    }
   ],
   "source": [
    "import numpy as np\n",
    "\n",
    "T_sys = 20.     # K\n",
    "d_nu = 500e6    # Hz\n",
    "tau = 1.        # second\n",
    "\n",
    "dT_rms = T_sys/np.sqrt(d_nu *tau)\n",
    "print \"rms fluctuation: \",dT_rms,\" K  for \",tau,\" seconds\""
   ]
  },
  {
   "cell_type": "code",
   "execution_count": 6,
   "metadata": {
    "collapsed": false
   },
   "outputs": [
    {
     "name": "stdout",
     "output_type": "stream",
     "text": [
      "rms fluctuation:  0.000115470053838  K  for  60  seconds\n"
     ]
    }
   ],
   "source": [
    "tau = 60\n",
    "\n",
    "dT_rms = T_sys/np.sqrt(d_nu *tau)\n",
    "print \"rms fluctuation: \",dT_rms,\" K  for \",tau,\" seconds\""
   ]
  },
  {
   "cell_type": "markdown",
   "metadata": {},
   "source": [
    "\n",
    "\n",
    "\n",
    "\n",
    "----------------------------------------------------------------------------\n",
    "\n",
    "<b/>Question 3.</b>\n",
    "\n",
    "<i/>What is the rms power level at the input to the first amplifier for the receiver in Q2? If the equivalent power level at the output of the receiver has to be 2 mW calculate the overall power gain of the receiver in dB.</i>\n",
    "\n",
    "\n",
    "We can calculate the power by using the expression:\n",
    "\n",
    "$$P = k_{\\rm B}T \\Delta\\nu.$$"
   ]
  },
  {
   "cell_type": "code",
   "execution_count": 7,
   "metadata": {
    "collapsed": false
   },
   "outputs": [
    {
     "name": "stdout",
     "output_type": "stream",
     "text": [
      "Power =  1.38e-13  Watts\n"
     ]
    }
   ],
   "source": [
    "k_b = 1.38e-23    # Boltzmann's constant\n",
    "\n",
    "pwr = k_b*T_sys*d_nu\n",
    "print \"Power = \",pwr,\" Watts\""
   ]
  },
  {
   "cell_type": "markdown",
   "metadata": {},
   "source": [
    "We define <b/>gain</b> as:\n",
    "\n",
    "$$G = \\frac{P_{\\rm out}}{P_{\\rm in}}$$\n",
    "\n",
    "therefore"
   ]
  },
  {
   "cell_type": "code",
   "execution_count": 10,
   "metadata": {
    "collapsed": false
   },
   "outputs": [
    {
     "name": "stdout",
     "output_type": "stream",
     "text": [
      "Gain =  14492753623.2   =  101.611509093  dB\n"
     ]
    }
   ],
   "source": [
    "p_in = pwr\n",
    "p_out = 2e-3    # Watts\n",
    "\n",
    "g = p_out/p_in\n",
    "print \"Gain = \",g,\"  = \",10.*np.log10(g),\" dB\""
   ]
  },
  {
   "cell_type": "markdown",
   "metadata": {},
   "source": [
    "\n",
    "\n",
    "\n",
    "\n",
    "----------------------------------------------------------------------------\n",
    "\n",
    "<b/>Question 4.</b>\n",
    "\n",
    "<i/>A receiver under test in the laboratory is connected to a matched resistor that can be heated and cooled. What is the receiver noise temperature ($T_{\\rm rec}$) if the power output drops by 3dB when the resistor temperature is reduced from 300K to 77K?</i>\n",
    "\n",
    "\n",
    "This is a hot and cold load system, so\n",
    "\n",
    "$$\\frac{T_{\\rm rec} + T_{\\rm hot}}{T_{\\rm rec} + T_{\\rm cold}} = Y,$$\n",
    "\n",
    "where here $Y = 10^{-3/10} = 2$.\n",
    "\n",
    "We can rearrange this expression, to give:\n",
    "\n",
    "$$T_{\\rm rec} = \\frac{T_{\\rm hot} - Y\\cdot T_{\\rm cold}}{Y-1}.$$"
   ]
  },
  {
   "cell_type": "code",
   "execution_count": 12,
   "metadata": {
    "collapsed": false
   },
   "outputs": [
    {
     "name": "stdout",
     "output_type": "stream",
     "text": [
      "1.99526231497\n",
      "Receiver temperature:  147.061532971  K\n"
     ]
    }
   ],
   "source": [
    "t_hot = 300.    # K\n",
    "t_cold = 77.    # K\n",
    "loss = 3.      # dB\n",
    "\n",
    "y = 10**(loss/10.)\n",
    "print y\n",
    "\n",
    "t_rec = (t_hot - y*t_cold)/(y-1)\n",
    "print \"Receiver temperature: \",t_rec,\" K\""
   ]
  },
  {
   "cell_type": "markdown",
   "metadata": {},
   "source": [
    "\n",
    "\n",
    "\n",
    "\n",
    "----------------------------------------------------------------------------\n",
    "\n",
    "<b/>Question 5.</b>\n",
    "\n",
    "<i/>If the bandwidth of a receiver is 100 MHz how long must one integrate to reach an rms noise which is 0.1% of the system noise with a basic “total power” receiver system?</i>\n",
    "\n",
    "\n",
    "Again, we can use the <b/>Basic Radiometer Equation</b>:\n",
    "\n",
    "$$\\Delta T_{\\rm rms} = \\frac{T_{\\rm sys}}{\\sqrt{\\Delta \\nu \\tau}}.$$\n",
    "\n",
    "We want to get an rms noise which is 0.1% of the system noise, i.e. $f = \\Delta T_{\\rm rms}/T_{\\rm sys} = 10^{-3}$."
   ]
  },
  {
   "cell_type": "code",
   "execution_count": 13,
   "metadata": {
    "collapsed": false
   },
   "outputs": [
    {
     "name": "stdout",
     "output_type": "stream",
     "text": [
      "Integration time =  0.01  seconds\n"
     ]
    }
   ],
   "source": [
    "f = 1e-3\n",
    "d_nu = 100e6    # Hz\n",
    "\n",
    "tau = 1./(d_nu*f**2)\n",
    "print \"Integration time = \",tau,\" seconds\""
   ]
  },
  {
   "cell_type": "markdown",
   "metadata": {},
   "source": [
    "\n",
    "\n",
    "\n",
    "\n",
    "----------------------------------------------------------------------------\n",
    "\n",
    "<b/>Question 6.</b>\n",
    "\n",
    "<i/>A receiver has a local oscillator frequency of 1451 MHz and an intermediate frequency (IF) of 30 MHz. To what range of frequencies is the receiver sensitive if the final bandwidth is 10 MHz?</i>"
   ]
  },
  {
   "cell_type": "code",
   "execution_count": 17,
   "metadata": {
    "collapsed": false
   },
   "outputs": [
    {
     "name": "stdout",
     "output_type": "stream",
     "text": [
      "RF 1 from  1416.0  to 1426.0  MHz\n",
      "RF 2 from  1476.0  to 1486.0  MHz\n"
     ]
    }
   ],
   "source": [
    "nu_LO = 1451e6    # Hz\n",
    "nu_IF = 30e6      # Hz\n",
    "d_nu = 10e6       # Hz\n",
    "\n",
    "nu_IF_dn = nu_IF-0.5*d_nu\n",
    "nu_IF_up = nu_IF+0.5*d_nu\n",
    "\n",
    "nu_RF1_dn = nu_LO - nu_IF_up\n",
    "nu_RF1_up = nu_LO - nu_IF_dn\n",
    "\n",
    "nu_RF2_dn = nu_LO + nu_IF_dn\n",
    "nu_RF2_up = nu_LO + nu_IF_up\n",
    "\n",
    "\n",
    "print \"RF 1 from \",nu_RF1_dn/1e6,\" to\",nu_RF1_up/1e6,\" MHz\"\n",
    "print \"RF 2 from \",nu_RF2_dn/1e6,\" to\",nu_RF2_up/1e6,\" MHz\""
   ]
  },
  {
   "cell_type": "markdown",
   "metadata": {},
   "source": [
    "Both of these bands would be mixed down to an IF at $30\\pm5$ MHz. Usually one would be rejected with a filter. "
   ]
  },
  {
   "cell_type": "markdown",
   "metadata": {},
   "source": [
    "\n",
    "\n",
    "\n",
    "\n",
    "----------------------------------------------------------------------------\n",
    "\n",
    "<b/>Question 7.</b>\n",
    "\n",
    "<i/>This question gives more practice in the frequency conversions in heterodyne receivers. In lectures we only considered single-sideband (SSB) receiver systems - but double-sideband (DSB) systems are also used particularly for broad-band continuum observations at higher frequencies.\n",
    "\n",
    "This means that two frequency bands, above and below the first L.O., are mixed into the same IF band – similar to the diagram given in Lectures. \n",
    "\n",
    "In one particular case the upper sideband (USB) centre frequency is 115 GHz with the lower sideband (LSB) centred at 107 GHz.\n",
    "\n",
    "a.)   What is the intermediate frequency ($\\nu_{\\rm IF}$)?\n",
    "\n",
    "b.)   What is the first Local Oscillator (LO1) frequency?\n",
    "\n",
    "c.)   In a DSB system used for spectroscopy an astronomical spectral line might enter from either the USB or LSB. To decide which the observer increases LO1 by 100 kHz and sees that the IF signal moves to a <b/>lower</b> frequency; is the spectral line coming in via the USB or the LSB?\n",
    "\n",
    "d.)   After the first mixer this receiver has a second mixer with an LO2 whose frequency is higher than the IF frequency of the first mixer. If the observer again shifts the LO1 up by 100 kHz what will be the shift of the line in the second IF if it comes in via the LSB?\n",
    "\n",
    "e.)   Is it a good idea to use DSB systems for spectroscopy?\n",
    "\n",
    "</i>\n",
    "\n",
    "\n",
    "\n",
    "To get started let's first answer (b). The LO1 frequency will be half way between the sidebands:"
   ]
  },
  {
   "cell_type": "code",
   "execution_count": 18,
   "metadata": {
    "collapsed": false
   },
   "outputs": [
    {
     "name": "stdout",
     "output_type": "stream",
     "text": [
      "b.) Frequency of LO1 is  111.0  GHz\n"
     ]
    }
   ],
   "source": [
    "nu_USB = 115.    # GHz\n",
    "nu_LSB = 107.    # GHz\n",
    "\n",
    "nu_LO1 = nu_LSB + 0.5*(nu_USB - nu_LSB)\n",
    "print \"b.) Frequency of LO1 is \",nu_LO1,\" GHz\""
   ]
  },
  {
   "cell_type": "code",
   "execution_count": 19,
   "metadata": {
    "collapsed": false
   },
   "outputs": [
    {
     "name": "stdout",
     "output_type": "stream",
     "text": [
      "a.) Frequency of IF is  4.0  GHz\n"
     ]
    }
   ],
   "source": [
    "nu_IF = nu_LO1 - nu_LSB\n",
    "print \"a.) Frequency of IF is \",nu_IF,\" GHz\""
   ]
  },
  {
   "cell_type": "markdown",
   "metadata": {},
   "source": [
    "c.) If we increase LO1 up by 100 MHz then we shift the IF frequency down by 100 MHz. LO1 has moved closer in frequency to the upper sideband, so if the line is in the upper sideband then it should move down in frequency ---> which is what we observe, therefore the line is in the USB."
   ]
  },
  {
   "cell_type": "markdown",
   "metadata": {},
   "source": [
    "d.) If we increase LO1 up by 100 MHz then in the LSB the line will also shift upwards in frequency after the first LO. After the second LO (LO2)it will therefore shift downwards in frequency by 100 MHz."
   ]
  },
  {
   "cell_type": "code",
   "execution_count": null,
   "metadata": {
    "collapsed": true
   },
   "outputs": [],
   "source": [
    "e."
   ]
  }
 ],
 "metadata": {
  "kernelspec": {
   "display_name": "Python 2",
   "language": "python",
   "name": "python2"
  },
  "language_info": {
   "codemirror_mode": {
    "name": "ipython",
    "version": 2
   },
   "file_extension": ".py",
   "mimetype": "text/x-python",
   "name": "python",
   "nbconvert_exporter": "python",
   "pygments_lexer": "ipython2",
   "version": "2.7.10"
  }
 },
 "nbformat": 4,
 "nbformat_minor": 0
}
