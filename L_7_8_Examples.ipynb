{
 "cells": [
  {
   "cell_type": "markdown",
   "metadata": {},
   "source": [
    "<b/>PHYS40591/64591 RADIO ASTRONOMY 2015\n",
    "\n",
    "Examples covering material in lectures 7&8</b>\n",
    "\n",
    "\n",
    "\n",
    "\n",
    "----------------------------------------------------------------------------\n",
    "\n",
    "<b/>Question 1.</b>\n",
    "\n",
    "<i/>The Lovell telescope has a diameter of 76 m. Make an estimate of its maximum gain $G_{\\rm max}$ at 21 cm wavelength expressing your answer in dB. </i>\n",
    "\n",
    "The gain of our antenna is approximately equivalent to its directivity:\n",
    "\n",
    "$$G_{\\rm max} = \\frac{4\\pi}{\\Omega_{\\rm A}}.$$\n",
    "\n",
    "To complete this calculation we need to know $\\Omega_{\\rm A}$. From the <b/>antenna theorem</b>,\n",
    "\n",
    "$$\\Omega_{\\rm A} = \\frac{\\lambda^2}{A_{\\rm e}}.$$\n",
    "\n",
    "We know that the wavelength is 21cm:\n"
   ]
  },
  {
   "cell_type": "code",
   "execution_count": 1,
   "metadata": {
    "collapsed": true
   },
   "outputs": [],
   "source": [
    "lam = 0.21   # metres"
   ]
  },
  {
   "cell_type": "markdown",
   "metadata": {},
   "source": [
    "So we just need to calculate the effective area of the antenna,\n",
    "\n",
    "$$A_{\\rm e} = \\frac{\\pi d^2}{4}\\times \\eta$$.\n",
    "\n",
    "We don't know what the efficiency, $\\eta$, is - but we can make an educated guess:"
   ]
  },
  {
   "cell_type": "code",
   "execution_count": 2,
   "metadata": {
    "collapsed": true
   },
   "outputs": [],
   "source": [
    "eta = 0.6   # assume 60% efficiency"
   ]
  },
  {
   "cell_type": "markdown",
   "metadata": {},
   "source": [
    "We can now calculate out effective area andhence the gain:"
   ]
  },
  {
   "cell_type": "code",
   "execution_count": 3,
   "metadata": {
    "collapsed": false
   },
   "outputs": [
    {
     "name": "stdout",
     "output_type": "stream",
     "text": [
      "Effective area:  2721.87587507  m\n",
      "Beam solid angle:  1.62020613812e-05  sterad\n",
      "Forward gain:  58.8963959087  dB\n"
     ]
    }
   ],
   "source": [
    "import numpy as np\n",
    "\n",
    "d = 76.0   # metres\n",
    "\n",
    "Ae = eta*np.pi*d**2/4.\n",
    "print \"Effective area: \",Ae,\" m\"\n",
    "\n",
    "omega_a = lam**2/Ae\n",
    "print \"Beam solid angle: \",omega_a,\" sterad\"\n",
    "\n",
    "G = 4.*np.pi/omega_a\n",
    "print \"Forward gain: \",10.*np.log10(G),\" dB\""
   ]
  },
  {
   "cell_type": "markdown",
   "metadata": {},
   "source": [
    "\n",
    "\n",
    "\n",
    "\n",
    "----------------------------------------------------------------------------\n",
    "\n",
    "<b/>Question 2.</b>\n",
    "\n",
    "<i/>The ratio $A_{\\rm e}/2 k_{\\rm B}$ is a convenient parameter for specifying the sensitivity of a radio telescope using units of K/Jy i.e. the antenna temperature $T_{\\rm A}$ K produced by an unpolarized point source of flux density 1 Jy (1 Jy = $10^{-26}$ W m$^{-2}$ Hz$^{-1}$). \n",
    "\n",
    "(a) What is the effective collecting area $A_{\\rm e}$ of a radio telescope whose sensitivity is 1 K/Jy? \n",
    "\n",
    "\n",
    "(b) The 2.3 GHz “feed” at the Arecibo radio telescope illuminates an elliptical aperture 225 m by 200 m in size, and the aperture efficiency over this ellipse is 0.70. What is the sensitivity of this system in K/Jy? \n",
    "\n",
    "(c) The same feed is used with a transmitter at 2.3 GHz for planetary radar. What is the on-axis power gain $G_{\\rm max}$ of this radar system? \n",
    "</i>\n",
    "\n",
    "\n",
    "(a) From the relationship between flux density and antenna temperature,\n",
    "\n",
    "$$T_{\\rm A} = \\frac{S A_{\\rm e}}{2 k_{\\rm B}},$$\n",
    "\n",
    "we can rearrange to find an expression for $A_{\\rm e}$:\n",
    "\n",
    "$$A_{\\rm e} = 2 k_{\\rm B} \\frac{T_{\\rm A}}{S}.$$\n",
    "\n",
    "We are looking for a sensitivity of 1 K/Jy, so we can replace that ratio of $T_{\\rm A}/S$ with $1/10^{-26}$:"
   ]
  },
  {
   "cell_type": "code",
   "execution_count": 4,
   "metadata": {
    "collapsed": false
   },
   "outputs": [
    {
     "name": "stdout",
     "output_type": "stream",
     "text": [
      "Effective area:  2760.0  m^2\n"
     ]
    }
   ],
   "source": [
    "k_b = 1.38e-23   # Boltzmann's constant\n",
    "rat = 1e26       # ratio of 1 K/Jy\n",
    "\n",
    "Ae = 2*k_b*rat\n",
    "print \"Effective area: \",Ae,\" m^2\""
   ]
  },
  {
   "cell_type": "markdown",
   "metadata": {},
   "source": [
    "\n",
    "\n",
    "(b) The Arecibo dish is elliptical, so it has a physical area of:"
   ]
  },
  {
   "cell_type": "code",
   "execution_count": 5,
   "metadata": {
    "collapsed": false
   },
   "outputs": [
    {
     "name": "stdout",
     "output_type": "stream",
     "text": [
      "Physical area:  38877.2090882  m^2\n",
      "Effective area:  27214.0463617  m^2\n"
     ]
    }
   ],
   "source": [
    "bmaj = 225.   # major axis\n",
    "bmin = 220.   # minor axis\n",
    "\n",
    "Ag = np.pi*bmaj*bmin/4.\n",
    "print \"Physical area: \",Ag,\" m^2\"\n",
    "\n",
    "eta = 0.7\n",
    "\n",
    "Ae = eta*Ag\n",
    "print \"Effective area: \",Ae,\" m^2\""
   ]
  },
  {
   "cell_type": "markdown",
   "metadata": {},
   "source": [
    "We can then calculate the sensitivity:\n",
    "\n",
    "$${\\rm Sens.} = \\frac{A_{\\rm e}}{2k_{\\rm B}}.$$"
   ]
  },
  {
   "cell_type": "code",
   "execution_count": 6,
   "metadata": {
    "collapsed": false
   },
   "outputs": [
    {
     "name": "stdout",
     "output_type": "stream",
     "text": [
      "Sensitivity:  9.86016172526 K/Jy\n"
     ]
    }
   ],
   "source": [
    "sens = 1e-26*Ae/(2.*k_b)\n",
    "print \"Sensitivity: \",sens,\"K/Jy\""
   ]
  },
  {
   "cell_type": "markdown",
   "metadata": {},
   "source": [
    "<b/>Note:</b> the factor of $10^{-26}$ to get the Jy units.\n",
    "\n",
    "\n",
    "\n",
    "(c) We use the same equation for gain as we did previously, but use the <b/> antenna theorem </b> to change the variables:\n",
    "\n",
    "$$G = \\frac{4\\pi}{\\Omega_{\\rm A}} = \\frac{4\\pi A_{\\rm e}}{\\lambda^2}.$$"
   ]
  },
  {
   "cell_type": "code",
   "execution_count": 7,
   "metadata": {
    "collapsed": false
   },
   "outputs": [
    {
     "name": "stdout",
     "output_type": "stream",
     "text": [
      "Gain:  73.0321614693  dB\n"
     ]
    }
   ],
   "source": [
    "nu = 2.3e9     # Hz\n",
    "lam = 3e8/nu   # metres\n",
    "\n",
    "G = 4*np.pi*Ae/lam**2\n",
    "print \"Gain: \",10.*np.log10(G),\" dB\""
   ]
  },
  {
   "cell_type": "markdown",
   "metadata": {},
   "source": [
    "\n",
    "\n",
    "\n",
    "\n",
    "----------------------------------------------------------------------------\n",
    "\n",
    "<b/>Question 3.</b>\n",
    "\n",
    "<i/>The planet Uranus is observed with a 30-m diameter radio telescope operating at $\\lambda$ = 3 mm. At a certain epoch the planet has an angular diameter of 3.5 arcsec and a brightness temperature of 100K. Estimate the antenna temperature, $T_{\\rm A}$, that would be measured if the telescope has an aperture efficiency of 50\\% \n",
    "\t\n",
    "a) Using the direct beam dilution approach; \n",
    "\t\n",
    "b) Starting by calculating the flux density.\n",
    "</i>\n",
    "\n",
    "\n",
    "(a) Again, let's start from the <b/>antenna theorem</b>:\n",
    "\n",
    "$$A_{\\rm e}\\Omega_{\\rm A} = \\lambda^2.$$\n",
    "\n",
    "From this we can calculate that,\n",
    "\n",
    "$$\\Omega_{\\rm A} = \\frac{\\lambda^2}{A_{\\rm e}}.$$"
   ]
  },
  {
   "cell_type": "code",
   "execution_count": 8,
   "metadata": {
    "collapsed": false
   },
   "outputs": [
    {
     "name": "stdout",
     "output_type": "stream",
     "text": [
      "Effective area:  353.429173529  m^2\n",
      "Beam solid angle:  2.54647908947e-08  sterad\n"
     ]
    }
   ],
   "source": [
    "lam = 0.003   # metres\n",
    "d = 30        # metres\n",
    "eta = 0.5     # 50% efficiency\n",
    "\n",
    "Ae = eta*np.pi*(d/2.)**2\n",
    "print \"Effective area: \",Ae,\" m^2\"\n",
    "\n",
    "omega_a = lam**2/Ae\n",
    "print \"Beam solid angle: \",omega_a,\" sterad\""
   ]
  },
  {
   "cell_type": "markdown",
   "metadata": {},
   "source": [
    "We can also calculate the solid angle subtended by Uranus:"
   ]
  },
  {
   "cell_type": "code",
   "execution_count": 9,
   "metadata": {
    "collapsed": false
   },
   "outputs": [
    {
     "name": "stdout",
     "output_type": "stream",
     "text": [
      "Uranus solid angle:  2.2613912307e-10  rads\n"
     ]
    }
   ],
   "source": [
    "omega_u_asec = 3.5   # arcsec\n",
    "omega_u_rad = omega_u_asec*(1./60.)**2*(np.pi/180.)\n",
    "\n",
    "Au = np.pi*omega_u_rad**2/4.\n",
    "print \"Uranus solid angle: \", Au,\" rads\""
   ]
  },
  {
   "cell_type": "markdown",
   "metadata": {},
   "source": [
    "The beam dilution approach uses the solid angle ratio,\n",
    "\n",
    "$$T_{\\rm ant} = \\left( \\frac{\\Omega_{\\rm Uranus}}{\\Omega_{\\rm A}} \\right) T_{\\rm Uranus}.$$"
   ]
  },
  {
   "cell_type": "code",
   "execution_count": 10,
   "metadata": {
    "collapsed": false
   },
   "outputs": [
    {
     "name": "stdout",
     "output_type": "stream",
     "text": [
      "Antenna temperature:  0.888046259656  K\n"
     ]
    }
   ],
   "source": [
    "t_u = 100.   # 100K\n",
    "\n",
    "t_a = (Au/omega_a)*t_u\n",
    "print \"Antenna temperature: \",t_a,\" K\""
   ]
  },
  {
   "cell_type": "markdown",
   "metadata": {},
   "source": [
    "\n",
    "\n",
    "(b) Start by calculating the flux density from Uranus:\n",
    "\n",
    "$$S = \\frac{2k_{\\rm B}T_{\\rm Uranus}}{\\lambda^2}\\cdot \\Omega_{\\rm Uranus}.$$"
   ]
  },
  {
   "cell_type": "code",
   "execution_count": 11,
   "metadata": {
    "collapsed": false
   },
   "outputs": [
    {
     "name": "stdout",
     "output_type": "stream",
     "text": [
      "Flux density:  6.93493310747  Jy\n"
     ]
    }
   ],
   "source": [
    "s_uranus = (2*k_b*t_u/lam**2)*Au\n",
    "print \"Flux density: \",s_uranus*1e26,\" Jy\""
   ]
  },
  {
   "cell_type": "markdown",
   "metadata": {},
   "source": [
    "We can then use the linear relationship between flux density and antenna temperature:\n",
    "\n",
    "$$T_{\\rm A} = \\frac{SA_{\\rm e}}{2k_{\\rm B}},$$\n",
    "\n",
    "to calculate:"
   ]
  },
  {
   "cell_type": "code",
   "execution_count": 12,
   "metadata": {
    "collapsed": false
   },
   "outputs": [
    {
     "name": "stdout",
     "output_type": "stream",
     "text": [
      "Effective area:  353.429173529  m^2\n",
      "Antenna temperature:  0.888046259656  K\n"
     ]
    }
   ],
   "source": [
    "eta = 0.5 # 50% efficiency\n",
    "d = 30.   # metres\n",
    "\n",
    "Ae = eta*np.pi*(d/2.)**2\n",
    "print \"Effective area: \",Ae,\" m^2\"\n",
    "\n",
    "t_ant = s_uranus*Ae/(2.*k_b)\n",
    "print \"Antenna temperature: \",t_ant,\" K\""
   ]
  },
  {
   "cell_type": "markdown",
   "metadata": {},
   "source": [
    "\n",
    "\n",
    "print \"(<b/> Note: </b> factor of $10^{26}$... where is this applied?)\""
   ]
  },
  {
   "cell_type": "markdown",
   "metadata": {},
   "source": [
    "\n",
    "\n",
    "\n",
    "\n",
    "----------------------------------------------------------------------------\n",
    "\n",
    "<b/>Question 4.</b>\n",
    "\n",
    "<i/>Graphically apply the convolution theorem to the pair of functions $f(t)$ and $g(t)$ illustrated below i.e. to produce a rough estimate of the shape of $Y(t) = f(t)\\ast g(t)$. Show at least four specific steps in the relative offset t and shade the common areas and hence explore the shape of the function $Y$ . If you have time confirm that you get the same answer by exchanging $f(t)$ for $g(t)$ —> convolution is commutative.\n",
    "</i>\n",
    "\n",
    "Here I'm just going to use the python library routines to show the result of this convolution. If you want to make a convolution animation like the ones in Lecture 7 try the <b/>ConvolutionAnimation.ipynb</b> script..."
   ]
  },
  {
   "cell_type": "code",
   "execution_count": 13,
   "metadata": {
    "collapsed": false,
    "scrolled": true
   },
   "outputs": [
    {
     "data": {
      "image/png": "[encoded data removed]",
      "text/plain": [
       "<matplotlib.figure.Figure at 0x10f3ecf10>"
      ]
     },
     "metadata": {},
     "output_type": "display_data"
    }
   ],
   "source": [
    "%matplotlib inline\n",
    "\n",
    "import numpy as np\n",
    "import pylab as pl\n",
    "\n",
    "t = np.arange(-1,1,0.01)\n",
    "\n",
    "l = len(t)\n",
    "s = l/4\n",
    "\n",
    "# make a tophat function:\n",
    "f = np.zeros(l)\n",
    "f[s:-s] = 1.\n",
    "\n",
    "# make a triangle function:\n",
    "g = np.zeros(l)\n",
    "g[s:-s] = 0.5*(t[s:-s] - t[s])\n",
    "\n",
    "# convolve the functions:\n",
    "c = np.convolve(f,g,mode='same')\n",
    "\n",
    "pl.subplot(131)\n",
    "pl.plot(t,f,c='g')\n",
    "pl.title(r\"$f(t)$\")\n",
    "pl.subplot(132)\n",
    "pl.plot(t,g,c='b')\n",
    "pl.title(r\"$g(t)$\")\n",
    "pl.subplot(133)\n",
    "pl.plot(t,c,c='r')\n",
    "pl.title(r\"$f(t)\\ast g(t)$\")\n",
    "pl.show()"
   ]
  },
  {
   "cell_type": "markdown",
   "metadata": {},
   "source": [
    "\n",
    "\n",
    "\n",
    "\n",
    "----------------------------------------------------------------------------\n",
    "\n",
    "<b/>Question 5.</b>\n",
    "\n",
    "<i/>A radio telescope of 500 m$^2$ effective aperture is operating at a frequency of 1.5 GHz and is pointed at the zenith. Calculate the measured antenna temperature $T_{\\rm A}$ assuming that:\n",
    "\n",
    "• the sky brightness temperature is everywhere uniform and equal to 10K;\n",
    "\n",
    "• the effective ground brightness temperature is 300K\n",
    "\n",
    "• half the beam area associated with sidelobes (i.e. the reception pattern outside the main beam solid angle $\\Omega_{\\rm m}$) is in the opposite direction to the main beam whose efficiency is 0.7.</i>\n",
    "\n",
    "The solid angle subtended by the antenna, $\\Omega_{\\rm A}$, as given by our antenna theorem equation, $A_{\\rm e}\\Omega_{\\rm A} = \\lambda^2$, is the sum over the main lobe and the sidelobes:\n",
    "\n",
    "$$\\Omega_{\\rm A} = \\Omega_{\\rm main} + \\Omega_{\\rm side}.$$\n",
    "\n",
    "We have been told that the main beam efficiency is 70%, so we know that the sidelobes make up 30% of $\\Omega_{\\rm A}$. Half of these sidelobes are pointing backwards, so 15% of the full beam is measuring the temperature of the Earth (300 K) and 85% is looking at the sky (10 K).\n",
    "\n",
    "So we can work out the antenna temperature as:"
   ]
  },
  {
   "cell_type": "code",
   "execution_count": 14,
   "metadata": {
    "collapsed": false
   },
   "outputs": [
    {
     "name": "stdout",
     "output_type": "stream",
     "text": [
      "Antenna temperature:  53.5  K\n"
     ]
    }
   ],
   "source": [
    "t_sky = 10.      # kelvin\n",
    "t_earth = 300.   # kelvin\n",
    "\n",
    "t_ant = 0.85*t_sky + 0.15*t_earth\n",
    "print \"Antenna temperature: \",t_ant,\" K\""
   ]
  },
  {
   "cell_type": "markdown",
   "metadata": {},
   "source": [
    "\n",
    "\n",
    "\n",
    "\n",
    "----------------------------------------------------------------------------\n",
    "\n",
    "<b/>Question 6.</b>\n",
    "\n",
    "<i/>A radio telescope of diameter 100-m is operated at a frequency of 5 GHz to map a region of Galactic synchrotron emission of area 1000 deg$^2$. If the “feed” produces a taper at the edge of the aperture of 15 dB - estimate:\n",
    "\n",
    "(a) the beam width and hence highest angular frequency that the telescope passes;\n",
    "\n",
    "(b) the number of independent data points in the survey and the number of independent pixels in the final map. </i>\n",
    "\n",
    "If the aperture is fully illuminated then it spans:"
   ]
  },
  {
   "cell_type": "code",
   "execution_count": 15,
   "metadata": {
    "collapsed": false
   },
   "outputs": [
    {
     "name": "stdout",
     "output_type": "stream",
     "text": [
      "Wavelength is  0.06  m\n",
      "Number of wavelengths across dish:  1666.66666667\n"
     ]
    }
   ],
   "source": [
    "const_c = 3e8      # m/s\n",
    "nu = 5e9           # Hz\n",
    "lam = const_c/nu   # metres\n",
    "print \"Wavelength is \",lam,\" m\"\n",
    "\n",
    "d = 100.           # metres\n",
    "\n",
    "n_wave = d/lam\n",
    "print \"Number of wavelengths across dish: \",n_wave"
   ]
  },
  {
   "cell_type": "markdown",
   "metadata": {},
   "source": [
    "But the illumination tapered, so let's round this down a bit:"
   ]
  },
  {
   "cell_type": "code",
   "execution_count": 16,
   "metadata": {
    "collapsed": true
   },
   "outputs": [],
   "source": [
    "n_wave_tap = 1400."
   ]
  },
  {
   "cell_type": "markdown",
   "metadata": {},
   "source": [
    "So the beam width is:"
   ]
  },
  {
   "cell_type": "code",
   "execution_count": 17,
   "metadata": {
    "collapsed": false
   },
   "outputs": [
    {
     "name": "stdout",
     "output_type": "stream",
     "text": [
      "Beam size:  0.000714285714286  rad\n",
      "            0.0409255567951  deg\n",
      "            2.4555334077  arcmin\n"
     ]
    }
   ],
   "source": [
    "bm = (n_wave/n_wave_tap)*lam/d\n",
    "print \"Beam size: \",bm,\" rad\"\n",
    "print \"           \",bm*180./np.pi,\" deg\"\n",
    "print \"           \",bm*(180./np.pi)*60,\" arcmin\""
   ]
  },
  {
   "cell_type": "markdown",
   "metadata": {},
   "source": [
    "(Note that our beam should be slightly <b/>larger</b> with a taper.)\n",
    "\n",
    "The Nyquist sampling criterion says that we need to take at least two samples across the beam, but to be safe we'll take three. In this case our step size is:"
   ]
  },
  {
   "cell_type": "code",
   "execution_count": 18,
   "metadata": {
    "collapsed": false
   },
   "outputs": [
    {
     "name": "stdout",
     "output_type": "stream",
     "text": [
      "Step size:  0.013641852265  deg\n"
     ]
    }
   ],
   "source": [
    "step = bm*(180./np.pi)/3.   # degrees\n",
    "print \"Step size: \",step,\" deg\""
   ]
  },
  {
   "cell_type": "markdown",
   "metadata": {},
   "source": [
    "Consequently, in one degree squared we have:"
   ]
  },
  {
   "cell_type": "code",
   "execution_count": 19,
   "metadata": {
    "collapsed": false
   },
   "outputs": [
    {
     "name": "stdout",
     "output_type": "stream",
     "text": [
      "Samples in 1 degree:  5373.45128504\n"
     ]
    }
   ],
   "source": [
    "n_samp = (1./step)**2\n",
    "print \"Samples in 1 degree: \",n_samp"
   ]
  },
  {
   "cell_type": "markdown",
   "metadata": {},
   "source": [
    "and in 1000 sq. degrees:"
   ]
  },
  {
   "cell_type": "code",
   "execution_count": 20,
   "metadata": {
    "collapsed": false
   },
   "outputs": [
    {
     "name": "stdout",
     "output_type": "stream",
     "text": [
      "Samples in 1000 sq. degrees:  5373451.28504\n"
     ]
    }
   ],
   "source": [
    "n_samp_1000 = 1000.*n_samp\n",
    "print \"Samples in 1000 sq. degrees: \",n_samp_1000"
   ]
  },
  {
   "cell_type": "markdown",
   "metadata": {},
   "source": [
    "\n",
    "\n",
    "\n",
    "\n",
    "----------------------------------------------------------------------------\n",
    "\n",
    "<b/>Question 7.</b>\n",
    "\n",
    "<i/>A small parabolic antenna of diameter 3 m has an aperture efficiency of 60% and is operated at a frequency of 12 GHz (i.e. satellite TV channels). Calculate the antenna beam solid angle and make a rough estimate of the likely main beam solid angle and main beam efficiency.</i>\n",
    "\n",
    "Let's start by listing what we know:"
   ]
  },
  {
   "cell_type": "code",
   "execution_count": 21,
   "metadata": {
    "collapsed": false
   },
   "outputs": [
    {
     "name": "stdout",
     "output_type": "stream",
     "text": [
      "Wavelength:  0.025  m\n",
      "Effective area:  4.24115008235  m^2\n"
     ]
    }
   ],
   "source": [
    "d = 3.     # metres\n",
    "eta = 0.6\n",
    "nu = 12e9  # Hz\n",
    "\n",
    "lam = const_c/nu  # metres\n",
    "print \"Wavelength: \",lam,\" m\"\n",
    "\n",
    "Ae = eta*np.pi*d**2/4.\n",
    "print \"Effective area: \",Ae,\" m^2\""
   ]
  },
  {
   "cell_type": "markdown",
   "metadata": {},
   "source": [
    "We can use these quantities and the <b/> antenna theorem </b> to calculate the antenna beam solid angle,\n",
    "\n",
    "$$\\Omega_{\\rm A} = \\frac{\\lambda^2}{A_{\\rm e}}.$$"
   ]
  },
  {
   "cell_type": "code",
   "execution_count": 22,
   "metadata": {
    "collapsed": false
   },
   "outputs": [
    {
     "name": "stdout",
     "output_type": "stream",
     "text": [
      "Beam solid angle:  0.000147365688048  sterad\n"
     ]
    }
   ],
   "source": [
    "omega_a = lam**2/Ae\n",
    "print \"Beam solid angle: \",omega_a,\" sterad\""
   ]
  },
  {
   "cell_type": "markdown",
   "metadata": {},
   "source": [
    "The typical angular size of the main lobe can be calculated (roughly) using\n",
    "\n",
    "$$\\theta_{1/2} = 1.15\\frac{\\lambda}{D}.$$"
   ]
  },
  {
   "cell_type": "code",
   "execution_count": 23,
   "metadata": {
    "collapsed": false
   },
   "outputs": [
    {
     "name": "stdout",
     "output_type": "stream",
     "text": [
      "Main lobe beam size:  9.18402777778e-05  sterad\n"
     ]
    }
   ],
   "source": [
    "omega_m = (1.15*lam/d)**2\n",
    "print \"Main lobe beam size: \",omega_m,\" sterad\""
   ]
  },
  {
   "cell_type": "markdown",
   "metadata": {},
   "source": [
    "The main lobe efficiency is given by the ratio $\\Omega_{\\rm m}/\\Omega_{\\rm A}$:"
   ]
  },
  {
   "cell_type": "code",
   "execution_count": 24,
   "metadata": {
    "collapsed": false
   },
   "outputs": [
    {
     "name": "stdout",
     "output_type": "stream",
     "text": [
      "Main lobe efficiency:  62.3213442656 %\n"
     ]
    }
   ],
   "source": [
    "eff_ml = omega_m/omega_a\n",
    "print \"Main lobe efficiency: \",eff_ml*100.,\"%\""
   ]
  },
  {
   "cell_type": "markdown",
   "metadata": {},
   "source": [
    "\n",
    "\n",
    "\n",
    "----------------------------------------------------------------------------\n",
    "\n",
    "<b/> Done! </b>"
   ]
  },
  {
   "cell_type": "code",
   "execution_count": null,
   "metadata": {
    "collapsed": true
   },
   "outputs": [],
   "source": []
  }
 ],
 "metadata": {
  "kernelspec": {
   "display_name": "Python 2",
   "language": "python",
   "name": "python2"
  },
  "language_info": {
   "codemirror_mode": {
    "name": "ipython",
    "version": 2
   },
   "file_extension": ".py",
   "mimetype": "text/x-python",
   "name": "python",
   "nbconvert_exporter": "python",
   "pygments_lexer": "ipython2",
   "version": "2.7.10"
  }
 },
 "nbformat": 4,
 "nbformat_minor": 0
}
