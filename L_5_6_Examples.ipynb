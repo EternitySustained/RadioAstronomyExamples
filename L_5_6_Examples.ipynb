{
 "cells": [
  {
   "cell_type": "markdown",
   "metadata": {},
   "source": [
    "<b/>PHYS40591/64591 RADIO ASTRONOMY 2015\n",
    "\n",
    "Examples covering material in lectures 5&6</b>\n",
    "\n",
    "\n",
    "\n",
    "\n",
    "----------------------------------------------------------------------------\n",
    "\n",
    "<b/>Question 1.</b>\n",
    "\n",
    "<i/>Future careless Lunar astronauts leave an open microwave oven radiating a power of 600W (uniformly in the range 2.7 GHz to 2.8 GHz) and pointing out of their laboratory window directly towards the Earth. Calculate the apparent flux density of the oven assuming it acts as antenna with an effective area of 0.07m$^2$. Comment on your answer.\n",
    "(The distance to the Moon is $3.84 \\times 10^5$ km and assume no loss in the window).</i>"
   ]
  },
  {
   "cell_type": "code",
   "execution_count": 20,
   "metadata": {
    "collapsed": false
   },
   "outputs": [
    {
     "name": "stdout",
     "output_type": "stream",
     "text": [
      "Wavelength =  0.109090909091  m\n",
      "Spectral power:  6e-06  Watts / Hz\n"
     ]
    }
   ],
   "source": [
    "const_c = 3e8 # m/s\n",
    "\n",
    "nu = 2.75e9   # Hz\n",
    "dnu = 100e6   # Hz\n",
    "\n",
    "pwr = 600     # Watts\n",
    "\n",
    "lam = const_c/nu\n",
    "print \"Wavelength = \",lam,\" m\"\n",
    "\n",
    "pwr_sp = pwr/dnu\n",
    "print \"Spectral power: \",pwr_sp,\" Watts / Hz\""
   ]
  },
  {
   "cell_type": "markdown",
   "metadata": {},
   "source": [
    "If this power was radiated isotropically over $4\\pi$ sterad then 1 m$^2$ of area on the Earth would receive:"
   ]
  },
  {
   "cell_type": "code",
   "execution_count": 21,
   "metadata": {
    "collapsed": false
   },
   "outputs": [
    {
     "name": "stdout",
     "output_type": "stream",
     "text": [
      "Power received in 1 sq. metre:  3.23801560652e-24  Watts/Hz/m^2  =  323.801560652  Jy\n"
     ]
    }
   ],
   "source": [
    "import numpy as np\n",
    "\n",
    "R_E = 3.84e5*1e3   # m\n",
    "\n",
    "pwr_1m = pwr_sp/(4*np.pi*R_E**2)\n",
    "print \"Power received in 1 sq. metre: \",pwr_1m,\" Watts/Hz/m^2  = \",pwr_1m*1e26,\" Jy\""
   ]
  },
  {
   "cell_type": "markdown",
   "metadata": {},
   "source": [
    "But the beam is not isotropic, it's concentrated into a smaller angle than the full $4\\pi$ sterads... If the effective area is $A_{\\rm eff}$ then we can work out the corresponding effective diameter:"
   ]
  },
  {
   "cell_type": "code",
   "execution_count": 22,
   "metadata": {
    "collapsed": false
   },
   "outputs": [
    {
     "name": "stdout",
     "output_type": "stream",
     "text": [
      "Effective diameter:  0.298541066072  m\n"
     ]
    }
   ],
   "source": [
    "A_eff = 0.07    # m^2\n",
    "\n",
    "d_eff = np.sqrt(4.*A_eff/np.pi)\n",
    "print \"Effective diameter: \",d_eff,\" m\""
   ]
  },
  {
   "cell_type": "markdown",
   "metadata": {},
   "source": [
    "and once we know that, we can work out the size of the solid angle:"
   ]
  },
  {
   "cell_type": "code",
   "execution_count": 23,
   "metadata": {
    "collapsed": false
   },
   "outputs": [
    {
     "name": "stdout",
     "output_type": "stream",
     "text": [
      "Beam solid angle:  0.15975966714  rad^2\n"
     ]
    }
   ],
   "source": [
    "theta_half = 1.02*lam/d_eff\n",
    "omega = 1.15*theta_half**2\n",
    "print \"Beam solid angle: \",omega,\" rad^2\""
   ]
  },
  {
   "cell_type": "markdown",
   "metadata": {},
   "source": [
    "From this we can work out the beam concentration relative to the isotropic case:"
   ]
  },
  {
   "cell_type": "code",
   "execution_count": 24,
   "metadata": {
    "collapsed": false
   },
   "outputs": [
    {
     "name": "stdout",
     "output_type": "stream",
     "text": [
      "Concentration factor:  78.6579669284\n"
     ]
    }
   ],
   "source": [
    "concentration_factor = 4.*np.pi/omega\n",
    "print \"Concentration factor: \",concentration_factor"
   ]
  },
  {
   "cell_type": "markdown",
   "metadata": {},
   "source": [
    "and hence the effective flux density:"
   ]
  },
  {
   "cell_type": "code",
   "execution_count": 25,
   "metadata": {
    "collapsed": false
   },
   "outputs": [
    {
     "name": "stdout",
     "output_type": "stream",
     "text": [
      "Effective flux density:  25469.5724492  Jy\n"
     ]
    }
   ],
   "source": [
    "S_eff = concentration_factor*pwr_1m\n",
    "print \"Effective flux density: \",S_eff*1e26,\" Jy\""
   ]
  },
  {
   "cell_type": "markdown",
   "metadata": {},
   "source": [
    "\n",
    "\n",
    "\n",
    "\n",
    "----------------------------------------------------------------------------\n",
    "\n",
    "<b/>Question 2.</b>\n",
    "\n",
    "<i/>A square rectangular aperture of side $D$ also corresponds to $u$ radio wavelengths i.e.\n",
    "the aperture is $u = D/\\lambda$ radio wavelengths across. Calculate the 1-D far-field power response function $P_{\\rm n}(\\theta) = [\\sin(\\pi u \\theta)/(\\pi u \\theta)]^2$ as a function of $\\theta$ (radians ) from the direction perpendicular to the plane of the aperture at points where $\\pi u \\theta = 0.5, 1.0, 1.5.....5.0$. Measure the half-power width of $P_{\\rm n}(\\theta)$ and note the value of $\\theta$ at which the first minimum occurs. Compare your answers with the equivalent values for a circular beam. (Comment: it’s good to do this standard calculation by hand at least once!)</i>"
   ]
  },
  {
   "cell_type": "code",
   "execution_count": 26,
   "metadata": {
    "collapsed": false
   },
   "outputs": [
    {
     "data": {
      "image/png": "[encoded data removed]",
      "text/plain": [
       "<matplotlib.figure.Figure at 0x110710d90>"
      ]
     },
     "metadata": {},
     "output_type": "display_data"
    }
   ],
   "source": [
    "%matplotlib inline\n",
    "\n",
    "import pylab as pl\n",
    "\n",
    "pi_u_theta = np.arange(0.5,5.5,0.5)\n",
    "Pn = (np.sin(pi_u_theta)/pi_u_theta)**2\n",
    "\n",
    "pl.subplot(111)\n",
    "\n",
    "# plot the function:\n",
    "pl.plot(pi_u_theta,Pn)\n",
    "pl.xlabel(r\"$\\pi u \\theta$\")\n",
    "pl.ylabel(r\"$P_{\\rm n}$\")\n",
    "\n",
    "# and plot a line to show the half-max\n",
    "pl.plot([0.5,5.0],[0.5,0.5],ls=':')\n",
    "pl.show()"
   ]
  },
  {
   "cell_type": "markdown",
   "metadata": {},
   "source": [
    "The half-power point crosses at about $\\pi u \\theta = 1.39$, so $\\theta = 0.442/u$ and so $\\theta_{1/2} = 0.884/u$.\n",
    "\n",
    "For the minimum we can see from the formula that the $\\sin$ function in the numerator will equal zero when $\\pi u \\theta = \\pi$, so when $\\theta = 1/u$."
   ]
  },
  {
   "cell_type": "markdown",
   "metadata": {},
   "source": [
    "\n",
    "\n",
    "\n",
    "\n",
    "----------------------------------------------------------------------------\n",
    "\n",
    "<b/>Question 3.</b>\n",
    "\n",
    "<i/>A radio antenna has a diameter of 20 m and is operated at wavelength of 600 MHz. Estimate the half-power beamwidth ($\\theta_{1/2}$; FWHM) expressed degrees.</i>"
   ]
  },
  {
   "cell_type": "code",
   "execution_count": 27,
   "metadata": {
    "collapsed": false
   },
   "outputs": [
    {
     "name": "stdout",
     "output_type": "stream",
     "text": [
      "Wavelength =  0.5  m\n",
      "theta_1/2 =  1.647253661  degrees\n"
     ]
    }
   ],
   "source": [
    "d = 20.       # m\n",
    "nu = 600e6    # Hz\n",
    "\n",
    "lam = const_c / nu\n",
    "print \"Wavelength = \",lam,\" m\"\n",
    "\n",
    "theta_half = 1.15*lam/d\n",
    "print \"theta_1/2 = \",theta_half*180./np.pi,\" degrees\""
   ]
  },
  {
   "cell_type": "markdown",
   "metadata": {},
   "source": [
    "\n",
    "\n",
    "\n",
    "\n",
    "----------------------------------------------------------------------------\n",
    "\n",
    "<b/>Question 4.</b>\n",
    "\n",
    "<i/>A radio telescope has a diameter of 100m and is being operated at a frequency of 30 GHz. At approximately what distance from the telescope does the Fraunhofer regime start? Is this within or beyond the atmosphere?</i>"
   ]
  },
  {
   "cell_type": "code",
   "execution_count": 28,
   "metadata": {
    "collapsed": false
   },
   "outputs": [
    {
     "name": "stdout",
     "output_type": "stream",
     "text": [
      "Wavelength =  0.01  m\n",
      "Rayleigh distance:  2000000.0  m   = 2000.0  km\n"
     ]
    }
   ],
   "source": [
    "d = 100.    # m\n",
    "nu = 30e9   # Hz\n",
    "\n",
    "lam = const_c / nu\n",
    "print \"Wavelength = \",lam,\" m\"\n",
    "\n",
    "#Rayleigh distance:\n",
    "R_ray = 2.*d**2/lam\n",
    "print \"Rayleigh distance: \",R_ray,\" m   =\",R_ray/1000.,\" km\""
   ]
  },
  {
   "cell_type": "markdown",
   "metadata": {},
   "source": [
    "This is pretty much outside the atmosphere. The top of the ionosphere is at about 1000 km."
   ]
  },
  {
   "cell_type": "markdown",
   "metadata": {},
   "source": [
    "\n",
    "\n",
    "\n",
    "\n",
    "----------------------------------------------------------------------------\n",
    "\n",
    "<b/>Question 5.</b>\n",
    "\n",
    "<i/>The telescope in Q4 has surface with an rms roughness of 300 microns compared to a perfect paraboloid. What is its effective surface reflectivity? At what higher frequency would you estimate that the telescope has reached its useful limit?</i>\n",
    "\n",
    "\n",
    "We need to use the Ruze formula for reflectivity,\n",
    "\n",
    "$$r = \\exp{\\left[\\frac{-4\\pi\\delta}{\\lambda}\\right]^2},$$\n",
    "\n",
    "where $\\delta$ is the rms surface error."
   ]
  },
  {
   "cell_type": "code",
   "execution_count": 29,
   "metadata": {
    "collapsed": false
   },
   "outputs": [
    {
     "name": "stdout",
     "output_type": "stream",
     "text": [
      "Reflectivity:  0.867515149966\n"
     ]
    }
   ],
   "source": [
    "delta = 300e-6     # m\n",
    "\n",
    "r = np.exp(-(4*np.pi*delta/lam)**2)\n",
    "print \"Reflectivity: \",r"
   ]
  },
  {
   "cell_type": "markdown",
   "metadata": {},
   "source": [
    "A reasonable limit for the usefulness of a telescope is when the reflectivity drops below $r = 0.5$, so let's use that as a guide. We need to re-arrange the Ruze formula:\n",
    "\n",
    "$$\\lambda = 4\\pi\\delta/\\sqrt{\\ln{2}}$$"
   ]
  },
  {
   "cell_type": "code",
   "execution_count": 31,
   "metadata": {
    "collapsed": false
   },
   "outputs": [
    {
     "name": "stdout",
     "output_type": "stream",
     "text": [
      "Limiting wavelength:  0.00452812480261  m\n",
      "Limiting frequency:  66252590879.8  Hz   = 66.2525908798  GHz\n"
     ]
    }
   ],
   "source": [
    "lam_lim = 4*np.pi*delta/np.sqrt(np.log(2))\n",
    "\n",
    "nu_lim = const_c/lam_lim\n",
    "print \"Limiting wavelength: \",lam_lim,\" m\"\n",
    "print \"Limiting frequency: \",nu_lim,\" Hz   =\",nu_lim/1e9,\" GHz\""
   ]
  },
  {
   "cell_type": "markdown",
   "metadata": {},
   "source": [
    "\n",
    "\n",
    "\n",
    "----------------------------------------------------------------------------\n",
    "\n",
    "<b/> Done! </b>"
   ]
  },
  {
   "cell_type": "code",
   "execution_count": null,
   "metadata": {
    "collapsed": true
   },
   "outputs": [],
   "source": []
  }
 ],
 "metadata": {
  "kernelspec": {
   "display_name": "Python 2",
   "language": "python",
   "name": "python2"
  },
  "language_info": {
   "codemirror_mode": {
    "name": "ipython",
    "version": 2
   },
   "file_extension": ".py",
   "mimetype": "text/x-python",
   "name": "python",
   "nbconvert_exporter": "python",
   "pygments_lexer": "ipython2",
   "version": "2.7.10"
  }
 },
 "nbformat": 4,
 "nbformat_minor": 0
}
