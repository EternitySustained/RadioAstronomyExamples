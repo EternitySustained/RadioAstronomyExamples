{
 "cells": [
  {
   "cell_type": "markdown",
   "metadata": {},
   "source": [
    "<b/>PHYS40591/64591 RADIO ASTRONOMY 2015\n",
    "\n",
    "Examples covering material in lectures 7&8</b>\n",
    "\n",
    "\n",
    "\n",
    "\n",
    "----------------------------------------------------------------------------\n",
    "\n",
    "This notebook shows you how to make a convolution animation like the ones in Lecture 7.\n",
    "\n",
    "The python isn't quite as simple as the standard worked examples, but hopefully the comments will explain what's going on."
   ]
  },
  {
   "cell_type": "code",
   "execution_count": null,
   "metadata": {
    "collapsed": false
   },
   "outputs": [],
   "source": [
    "# we need to use the matplotlib \"nbagg\"\n",
    "# library to get the figures to display\n",
    "# properly.\n",
    "%matplotlib nbagg\n",
    "\n",
    "# import our library functions:\n",
    "import numpy as np\n",
    "import matplotlib.pyplot as pl\n",
    "import matplotlib.animation as animation\n",
    "\n",
    "\n",
    "# initiate the figure:\n",
    "fig, ax = pl.subplots()\n",
    "\n",
    "# set our x-axis: -1. to 1. in steps of 0.01:\n",
    "t = np.arange(-1., 1., 0.01)\n",
    "\n",
    "# find the number of elements in our x-axis array:\n",
    "l = len(t)\n",
    "\n",
    "# take a small fraction of that:\n",
    "s = len(t)/8\n",
    "\n",
    "# define our top-hat function over a small part of the x-axis:\n",
    "h = np.zeros(l)\n",
    "h[3*s:5*s] = 1.\n",
    "\n",
    "# define our triangle function over a small part of the x-axis:\n",
    "g = np.zeros(l)\n",
    "g[s:3*s] = t[s:3*s]-t[s]\n",
    "g/=np.max(g)\n",
    "\n",
    "# define an array of zeros that we will fill with our calculated\n",
    "# convolution, h*g, later:\n",
    "c = np.zeros(l)\n",
    "\n",
    "# plot initial lines of these functions:\n",
    "line1, = ax.plot(t, g)\n",
    "line2, = ax.plot(t, h)\n",
    "line3, = ax.plot(t, h)\n",
    "line4, = ax.plot(t, c)\n",
    "\n",
    "# this is a function that calculates each step, i, of\n",
    "# our animation:\n",
    "def animate(i):\n",
    "    \n",
    "    # update g for the next value of i:\n",
    "    g = np.zeros(l)\n",
    "    g[s+i:3*s+i] = t[s+i:3*s+i]-t[s+i]\n",
    "    g/=np.max(g)\n",
    "\n",
    "    # update h for the next value of i (no change):\n",
    "    h = np.zeros(l)\n",
    "    h[3*s:5*s] = 1.\n",
    "    \n",
    "    # calculate the multiplication of g and h:\n",
    "    f = g*h\n",
    "    \n",
    "    # numerically integrate under this function:\n",
    "    f_int = np.sum(f)\n",
    "    c[3*s+i] = 0.01*f_int\n",
    "    \n",
    "    # update the lines on the plot:\n",
    "    line1.set_ydata(g)  \n",
    "    line2.set_ydata(h)  \n",
    "    line3.set_ydata(f)\n",
    "    line4.set_ydata(c)\n",
    "    \n",
    "    return line1, line2, line3, line4, \n",
    "\n",
    "\n",
    "# this function clears the previous iteration from the plot\n",
    "# before plotting a new one. line2 is h, which doesn't change\n",
    "# so it's been left out:\n",
    "def init():\n",
    "    line1.set_ydata(np.ma.array(t, mask=True))\n",
    "    line3.set_ydata(np.ma.array(t, mask=True))\n",
    "    line4.set_ydata(np.ma.array(t, mask=True))\n",
    "    \n",
    "    return line1, line3, line4,\n",
    "\n",
    "\n",
    "# actually run the animation by calling the \"animate\"\n",
    "# function from above:\n",
    "ani = animation.FuncAnimation(fig, animate, np.arange(0, 300), init_func=init,\n",
    "    interval=10, blit=True)\n",
    "\n",
    "# set the axes:\n",
    "pl.axis([-1.,1.,0,1.5])\n",
    "\n",
    "# display the plot:\n",
    "pl.show();"
   ]
  },
  {
   "cell_type": "markdown",
   "metadata": {},
   "source": [
    "If you're having difficulty viewing the whole figure, hover over the right hand edge of the window and you should be able to scroll up and down to see it better."
   ]
  },
  {
   "cell_type": "code",
   "execution_count": null,
   "metadata": {
    "collapsed": true
   },
   "outputs": [],
   "source": []
  },
  {
   "cell_type": "code",
   "execution_count": null,
   "metadata": {
    "collapsed": true
   },
   "outputs": [],
   "source": []
  }
 ],
 "metadata": {
  "kernelspec": {
   "display_name": "Python 2",
   "language": "python",
   "name": "python2"
  },
  "language_info": {
   "codemirror_mode": {
    "name": "ipython",
    "version": 2
   },
   "file_extension": ".py",
   "mimetype": "text/x-python",
   "name": "python",
   "nbconvert_exporter": "python",
   "pygments_lexer": "ipython2",
   "version": "2.7.10"
  }
 },
 "nbformat": 4,
 "nbformat_minor": 0
}
